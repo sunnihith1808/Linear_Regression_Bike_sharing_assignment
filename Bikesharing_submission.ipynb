{
 "cells": [
  {
   "cell_type": "markdown",
   "id": "98d1153f",
   "metadata": {},
   "source": [
    "## Importing required libraries"
   ]
  },
  {
   "cell_type": "code",
   "execution_count": 200,
   "id": "f1836e41",
   "metadata": {},
   "outputs": [],
   "source": [
    "# Importing all required packages\n",
    "import numpy as np\n",
    "import pandas as pd\n",
    "import matplotlib.pyplot as plt\n",
    "import seaborn as sns\n",
    "%matplotlib inline\n",
    "from sklearn.linear_model import LinearRegression\n",
    "import statsmodels.api as sm\n",
    "from sklearn.metrics import mean_squared_error, r2_score\n",
    "import warnings\n",
    "warnings.filterwarnings('ignore')"
   ]
  },
  {
   "cell_type": "markdown",
   "id": "88ac305f",
   "metadata": {},
   "source": [
    "## Step 1: Reading and understanding the data"
   ]
  },
  {
   "cell_type": "code",
   "execution_count": 201,
   "id": "7ab2c82d",
   "metadata": {},
   "outputs": [],
   "source": [
    "#Importing dataset\n",
    "df = pd.read_csv(\"day.csv\")"
   ]
  },
  {
   "cell_type": "code",
   "execution_count": 202,
   "id": "3e1ec563",
   "metadata": {
    "scrolled": true
   },
   "outputs": [
    {
     "data": {
      "text/html": [
       "<div>\n",
       "<style scoped>\n",
       "    .dataframe tbody tr th:only-of-type {\n",
       "        vertical-align: middle;\n",
       "    }\n",
       "\n",
       "    .dataframe tbody tr th {\n",
       "        vertical-align: top;\n",
       "    }\n",
       "\n",
       "    .dataframe thead th {\n",
       "        text-align: right;\n",
       "    }\n",
       "</style>\n",
       "<table border=\"1\" class=\"dataframe\">\n",
       "  <thead>\n",
       "    <tr style=\"text-align: right;\">\n",
       "      <th></th>\n",
       "      <th>instant</th>\n",
       "      <th>dteday</th>\n",
       "      <th>season</th>\n",
       "      <th>yr</th>\n",
       "      <th>mnth</th>\n",
       "      <th>holiday</th>\n",
       "      <th>weekday</th>\n",
       "      <th>workingday</th>\n",
       "      <th>weathersit</th>\n",
       "      <th>temp</th>\n",
       "      <th>atemp</th>\n",
       "      <th>hum</th>\n",
       "      <th>windspeed</th>\n",
       "      <th>casual</th>\n",
       "      <th>registered</th>\n",
       "      <th>cnt</th>\n",
       "    </tr>\n",
       "  </thead>\n",
       "  <tbody>\n",
       "    <tr>\n",
       "      <th>0</th>\n",
       "      <td>1</td>\n",
       "      <td>01-01-2018</td>\n",
       "      <td>1</td>\n",
       "      <td>0</td>\n",
       "      <td>1</td>\n",
       "      <td>0</td>\n",
       "      <td>6</td>\n",
       "      <td>0</td>\n",
       "      <td>2</td>\n",
       "      <td>14.110847</td>\n",
       "      <td>18.18125</td>\n",
       "      <td>80.5833</td>\n",
       "      <td>10.749882</td>\n",
       "      <td>331</td>\n",
       "      <td>654</td>\n",
       "      <td>985</td>\n",
       "    </tr>\n",
       "    <tr>\n",
       "      <th>1</th>\n",
       "      <td>2</td>\n",
       "      <td>02-01-2018</td>\n",
       "      <td>1</td>\n",
       "      <td>0</td>\n",
       "      <td>1</td>\n",
       "      <td>0</td>\n",
       "      <td>0</td>\n",
       "      <td>0</td>\n",
       "      <td>2</td>\n",
       "      <td>14.902598</td>\n",
       "      <td>17.68695</td>\n",
       "      <td>69.6087</td>\n",
       "      <td>16.652113</td>\n",
       "      <td>131</td>\n",
       "      <td>670</td>\n",
       "      <td>801</td>\n",
       "    </tr>\n",
       "    <tr>\n",
       "      <th>2</th>\n",
       "      <td>3</td>\n",
       "      <td>03-01-2018</td>\n",
       "      <td>1</td>\n",
       "      <td>0</td>\n",
       "      <td>1</td>\n",
       "      <td>0</td>\n",
       "      <td>1</td>\n",
       "      <td>1</td>\n",
       "      <td>1</td>\n",
       "      <td>8.050924</td>\n",
       "      <td>9.47025</td>\n",
       "      <td>43.7273</td>\n",
       "      <td>16.636703</td>\n",
       "      <td>120</td>\n",
       "      <td>1229</td>\n",
       "      <td>1349</td>\n",
       "    </tr>\n",
       "    <tr>\n",
       "      <th>3</th>\n",
       "      <td>4</td>\n",
       "      <td>04-01-2018</td>\n",
       "      <td>1</td>\n",
       "      <td>0</td>\n",
       "      <td>1</td>\n",
       "      <td>0</td>\n",
       "      <td>2</td>\n",
       "      <td>1</td>\n",
       "      <td>1</td>\n",
       "      <td>8.200000</td>\n",
       "      <td>10.60610</td>\n",
       "      <td>59.0435</td>\n",
       "      <td>10.739832</td>\n",
       "      <td>108</td>\n",
       "      <td>1454</td>\n",
       "      <td>1562</td>\n",
       "    </tr>\n",
       "    <tr>\n",
       "      <th>4</th>\n",
       "      <td>5</td>\n",
       "      <td>05-01-2018</td>\n",
       "      <td>1</td>\n",
       "      <td>0</td>\n",
       "      <td>1</td>\n",
       "      <td>0</td>\n",
       "      <td>3</td>\n",
       "      <td>1</td>\n",
       "      <td>1</td>\n",
       "      <td>9.305237</td>\n",
       "      <td>11.46350</td>\n",
       "      <td>43.6957</td>\n",
       "      <td>12.522300</td>\n",
       "      <td>82</td>\n",
       "      <td>1518</td>\n",
       "      <td>1600</td>\n",
       "    </tr>\n",
       "  </tbody>\n",
       "</table>\n",
       "</div>"
      ],
      "text/plain": [
       "   instant      dteday  season  yr  mnth  holiday  weekday  workingday  \\\n",
       "0        1  01-01-2018       1   0     1        0        6           0   \n",
       "1        2  02-01-2018       1   0     1        0        0           0   \n",
       "2        3  03-01-2018       1   0     1        0        1           1   \n",
       "3        4  04-01-2018       1   0     1        0        2           1   \n",
       "4        5  05-01-2018       1   0     1        0        3           1   \n",
       "\n",
       "   weathersit       temp     atemp      hum  windspeed  casual  registered  \\\n",
       "0           2  14.110847  18.18125  80.5833  10.749882     331         654   \n",
       "1           2  14.902598  17.68695  69.6087  16.652113     131         670   \n",
       "2           1   8.050924   9.47025  43.7273  16.636703     120        1229   \n",
       "3           1   8.200000  10.60610  59.0435  10.739832     108        1454   \n",
       "4           1   9.305237  11.46350  43.6957  12.522300      82        1518   \n",
       "\n",
       "    cnt  \n",
       "0   985  \n",
       "1   801  \n",
       "2  1349  \n",
       "3  1562  \n",
       "4  1600  "
      ]
     },
     "execution_count": 202,
     "metadata": {},
     "output_type": "execute_result"
    }
   ],
   "source": [
    "#Checking the head of data set\n",
    "df.head()"
   ]
  },
  {
   "cell_type": "markdown",
   "id": "6b992b01",
   "metadata": {},
   "source": [
    "#### Inspect the various aspects of dataset"
   ]
  },
  {
   "cell_type": "code",
   "execution_count": 203,
   "id": "078b3caa",
   "metadata": {},
   "outputs": [
    {
     "data": {
      "text/plain": [
       "(730, 16)"
      ]
     },
     "execution_count": 203,
     "metadata": {},
     "output_type": "execute_result"
    }
   ],
   "source": [
    "df.shape"
   ]
  },
  {
   "cell_type": "code",
   "execution_count": 204,
   "id": "7ab8090f",
   "metadata": {
    "scrolled": true
   },
   "outputs": [
    {
     "name": "stdout",
     "output_type": "stream",
     "text": [
      "<class 'pandas.core.frame.DataFrame'>\n",
      "RangeIndex: 730 entries, 0 to 729\n",
      "Data columns (total 16 columns):\n",
      " #   Column      Non-Null Count  Dtype  \n",
      "---  ------      --------------  -----  \n",
      " 0   instant     730 non-null    int64  \n",
      " 1   dteday      730 non-null    object \n",
      " 2   season      730 non-null    int64  \n",
      " 3   yr          730 non-null    int64  \n",
      " 4   mnth        730 non-null    int64  \n",
      " 5   holiday     730 non-null    int64  \n",
      " 6   weekday     730 non-null    int64  \n",
      " 7   workingday  730 non-null    int64  \n",
      " 8   weathersit  730 non-null    int64  \n",
      " 9   temp        730 non-null    float64\n",
      " 10  atemp       730 non-null    float64\n",
      " 11  hum         730 non-null    float64\n",
      " 12  windspeed   730 non-null    float64\n",
      " 13  casual      730 non-null    int64  \n",
      " 14  registered  730 non-null    int64  \n",
      " 15  cnt         730 non-null    int64  \n",
      "dtypes: float64(4), int64(11), object(1)\n",
      "memory usage: 91.4+ KB\n"
     ]
    }
   ],
   "source": [
    "df.info()"
   ]
  },
  {
   "cell_type": "code",
   "execution_count": 205,
   "id": "93325527",
   "metadata": {},
   "outputs": [
    {
     "data": {
      "text/html": [
       "<div>\n",
       "<style scoped>\n",
       "    .dataframe tbody tr th:only-of-type {\n",
       "        vertical-align: middle;\n",
       "    }\n",
       "\n",
       "    .dataframe tbody tr th {\n",
       "        vertical-align: top;\n",
       "    }\n",
       "\n",
       "    .dataframe thead th {\n",
       "        text-align: right;\n",
       "    }\n",
       "</style>\n",
       "<table border=\"1\" class=\"dataframe\">\n",
       "  <thead>\n",
       "    <tr style=\"text-align: right;\">\n",
       "      <th></th>\n",
       "      <th>instant</th>\n",
       "      <th>season</th>\n",
       "      <th>yr</th>\n",
       "      <th>mnth</th>\n",
       "      <th>holiday</th>\n",
       "      <th>weekday</th>\n",
       "      <th>workingday</th>\n",
       "      <th>weathersit</th>\n",
       "      <th>temp</th>\n",
       "      <th>atemp</th>\n",
       "      <th>hum</th>\n",
       "      <th>windspeed</th>\n",
       "      <th>casual</th>\n",
       "      <th>registered</th>\n",
       "      <th>cnt</th>\n",
       "    </tr>\n",
       "  </thead>\n",
       "  <tbody>\n",
       "    <tr>\n",
       "      <th>count</th>\n",
       "      <td>730.000000</td>\n",
       "      <td>730.000000</td>\n",
       "      <td>730.000000</td>\n",
       "      <td>730.000000</td>\n",
       "      <td>730.000000</td>\n",
       "      <td>730.000000</td>\n",
       "      <td>730.000000</td>\n",
       "      <td>730.000000</td>\n",
       "      <td>730.000000</td>\n",
       "      <td>730.000000</td>\n",
       "      <td>730.000000</td>\n",
       "      <td>730.000000</td>\n",
       "      <td>730.000000</td>\n",
       "      <td>730.000000</td>\n",
       "      <td>730.000000</td>\n",
       "    </tr>\n",
       "    <tr>\n",
       "      <th>mean</th>\n",
       "      <td>365.500000</td>\n",
       "      <td>2.498630</td>\n",
       "      <td>0.500000</td>\n",
       "      <td>6.526027</td>\n",
       "      <td>0.028767</td>\n",
       "      <td>2.997260</td>\n",
       "      <td>0.683562</td>\n",
       "      <td>1.394521</td>\n",
       "      <td>20.319259</td>\n",
       "      <td>23.726322</td>\n",
       "      <td>62.765175</td>\n",
       "      <td>12.763620</td>\n",
       "      <td>849.249315</td>\n",
       "      <td>3658.757534</td>\n",
       "      <td>4508.006849</td>\n",
       "    </tr>\n",
       "    <tr>\n",
       "      <th>std</th>\n",
       "      <td>210.877136</td>\n",
       "      <td>1.110184</td>\n",
       "      <td>0.500343</td>\n",
       "      <td>3.450215</td>\n",
       "      <td>0.167266</td>\n",
       "      <td>2.006161</td>\n",
       "      <td>0.465405</td>\n",
       "      <td>0.544807</td>\n",
       "      <td>7.506729</td>\n",
       "      <td>8.150308</td>\n",
       "      <td>14.237589</td>\n",
       "      <td>5.195841</td>\n",
       "      <td>686.479875</td>\n",
       "      <td>1559.758728</td>\n",
       "      <td>1936.011647</td>\n",
       "    </tr>\n",
       "    <tr>\n",
       "      <th>min</th>\n",
       "      <td>1.000000</td>\n",
       "      <td>1.000000</td>\n",
       "      <td>0.000000</td>\n",
       "      <td>1.000000</td>\n",
       "      <td>0.000000</td>\n",
       "      <td>0.000000</td>\n",
       "      <td>0.000000</td>\n",
       "      <td>1.000000</td>\n",
       "      <td>2.424346</td>\n",
       "      <td>3.953480</td>\n",
       "      <td>0.000000</td>\n",
       "      <td>1.500244</td>\n",
       "      <td>2.000000</td>\n",
       "      <td>20.000000</td>\n",
       "      <td>22.000000</td>\n",
       "    </tr>\n",
       "    <tr>\n",
       "      <th>25%</th>\n",
       "      <td>183.250000</td>\n",
       "      <td>2.000000</td>\n",
       "      <td>0.000000</td>\n",
       "      <td>4.000000</td>\n",
       "      <td>0.000000</td>\n",
       "      <td>1.000000</td>\n",
       "      <td>0.000000</td>\n",
       "      <td>1.000000</td>\n",
       "      <td>13.811885</td>\n",
       "      <td>16.889713</td>\n",
       "      <td>52.000000</td>\n",
       "      <td>9.041650</td>\n",
       "      <td>316.250000</td>\n",
       "      <td>2502.250000</td>\n",
       "      <td>3169.750000</td>\n",
       "    </tr>\n",
       "    <tr>\n",
       "      <th>50%</th>\n",
       "      <td>365.500000</td>\n",
       "      <td>3.000000</td>\n",
       "      <td>0.500000</td>\n",
       "      <td>7.000000</td>\n",
       "      <td>0.000000</td>\n",
       "      <td>3.000000</td>\n",
       "      <td>1.000000</td>\n",
       "      <td>1.000000</td>\n",
       "      <td>20.465826</td>\n",
       "      <td>24.368225</td>\n",
       "      <td>62.625000</td>\n",
       "      <td>12.125325</td>\n",
       "      <td>717.000000</td>\n",
       "      <td>3664.500000</td>\n",
       "      <td>4548.500000</td>\n",
       "    </tr>\n",
       "    <tr>\n",
       "      <th>75%</th>\n",
       "      <td>547.750000</td>\n",
       "      <td>3.000000</td>\n",
       "      <td>1.000000</td>\n",
       "      <td>10.000000</td>\n",
       "      <td>0.000000</td>\n",
       "      <td>5.000000</td>\n",
       "      <td>1.000000</td>\n",
       "      <td>2.000000</td>\n",
       "      <td>26.880615</td>\n",
       "      <td>30.445775</td>\n",
       "      <td>72.989575</td>\n",
       "      <td>15.625589</td>\n",
       "      <td>1096.500000</td>\n",
       "      <td>4783.250000</td>\n",
       "      <td>5966.000000</td>\n",
       "    </tr>\n",
       "    <tr>\n",
       "      <th>max</th>\n",
       "      <td>730.000000</td>\n",
       "      <td>4.000000</td>\n",
       "      <td>1.000000</td>\n",
       "      <td>12.000000</td>\n",
       "      <td>1.000000</td>\n",
       "      <td>6.000000</td>\n",
       "      <td>1.000000</td>\n",
       "      <td>3.000000</td>\n",
       "      <td>35.328347</td>\n",
       "      <td>42.044800</td>\n",
       "      <td>97.250000</td>\n",
       "      <td>34.000021</td>\n",
       "      <td>3410.000000</td>\n",
       "      <td>6946.000000</td>\n",
       "      <td>8714.000000</td>\n",
       "    </tr>\n",
       "  </tbody>\n",
       "</table>\n",
       "</div>"
      ],
      "text/plain": [
       "          instant      season          yr        mnth     holiday     weekday  \\\n",
       "count  730.000000  730.000000  730.000000  730.000000  730.000000  730.000000   \n",
       "mean   365.500000    2.498630    0.500000    6.526027    0.028767    2.997260   \n",
       "std    210.877136    1.110184    0.500343    3.450215    0.167266    2.006161   \n",
       "min      1.000000    1.000000    0.000000    1.000000    0.000000    0.000000   \n",
       "25%    183.250000    2.000000    0.000000    4.000000    0.000000    1.000000   \n",
       "50%    365.500000    3.000000    0.500000    7.000000    0.000000    3.000000   \n",
       "75%    547.750000    3.000000    1.000000   10.000000    0.000000    5.000000   \n",
       "max    730.000000    4.000000    1.000000   12.000000    1.000000    6.000000   \n",
       "\n",
       "       workingday  weathersit        temp       atemp         hum   windspeed  \\\n",
       "count  730.000000  730.000000  730.000000  730.000000  730.000000  730.000000   \n",
       "mean     0.683562    1.394521   20.319259   23.726322   62.765175   12.763620   \n",
       "std      0.465405    0.544807    7.506729    8.150308   14.237589    5.195841   \n",
       "min      0.000000    1.000000    2.424346    3.953480    0.000000    1.500244   \n",
       "25%      0.000000    1.000000   13.811885   16.889713   52.000000    9.041650   \n",
       "50%      1.000000    1.000000   20.465826   24.368225   62.625000   12.125325   \n",
       "75%      1.000000    2.000000   26.880615   30.445775   72.989575   15.625589   \n",
       "max      1.000000    3.000000   35.328347   42.044800   97.250000   34.000021   \n",
       "\n",
       "            casual   registered          cnt  \n",
       "count   730.000000   730.000000   730.000000  \n",
       "mean    849.249315  3658.757534  4508.006849  \n",
       "std     686.479875  1559.758728  1936.011647  \n",
       "min       2.000000    20.000000    22.000000  \n",
       "25%     316.250000  2502.250000  3169.750000  \n",
       "50%     717.000000  3664.500000  4548.500000  \n",
       "75%    1096.500000  4783.250000  5966.000000  \n",
       "max    3410.000000  6946.000000  8714.000000  "
      ]
     },
     "execution_count": 205,
     "metadata": {},
     "output_type": "execute_result"
    }
   ],
   "source": [
    "df.describe()"
   ]
  },
  {
   "cell_type": "markdown",
   "id": "a585743f",
   "metadata": {},
   "source": [
    "## Step 2:  Data  preparation and Visualising the Data"
   ]
  },
  {
   "cell_type": "code",
   "execution_count": 206,
   "id": "3f4caceb",
   "metadata": {
    "scrolled": true
   },
   "outputs": [
    {
     "data": {
      "text/plain": [
       "instant       0.0\n",
       "dteday        0.0\n",
       "season        0.0\n",
       "yr            0.0\n",
       "mnth          0.0\n",
       "holiday       0.0\n",
       "weekday       0.0\n",
       "workingday    0.0\n",
       "weathersit    0.0\n",
       "temp          0.0\n",
       "atemp         0.0\n",
       "hum           0.0\n",
       "windspeed     0.0\n",
       "casual        0.0\n",
       "registered    0.0\n",
       "cnt           0.0\n",
       "dtype: float64"
      ]
     },
     "execution_count": 206,
     "metadata": {},
     "output_type": "execute_result"
    }
   ],
   "source": [
    "### checking null values\n",
    "round(100*(df.isnull().sum()/len(df.index)), 2)"
   ]
  },
  {
   "cell_type": "markdown",
   "id": "12398699",
   "metadata": {},
   "source": [
    "#### Observation\n",
    "- No null values are present"
   ]
  },
  {
   "cell_type": "code",
   "execution_count": 207,
   "id": "e980c903",
   "metadata": {},
   "outputs": [
    {
     "data": {
      "text/plain": [
       "3    188\n",
       "2    184\n",
       "1    180\n",
       "4    178\n",
       "Name: season, dtype: int64"
      ]
     },
     "execution_count": 207,
     "metadata": {},
     "output_type": "execute_result"
    }
   ],
   "source": [
    "df.season.value_counts()"
   ]
  },
  {
   "cell_type": "code",
   "execution_count": 208,
   "id": "3423726b",
   "metadata": {},
   "outputs": [
    {
     "data": {
      "text/plain": [
       "6    105\n",
       "0    105\n",
       "1    105\n",
       "2    104\n",
       "4    104\n",
       "5    104\n",
       "3    103\n",
       "Name: weekday, dtype: int64"
      ]
     },
     "execution_count": 208,
     "metadata": {},
     "output_type": "execute_result"
    }
   ],
   "source": [
    "df.weekday.value_counts()"
   ]
  },
  {
   "cell_type": "code",
   "execution_count": 209,
   "id": "2dc61780",
   "metadata": {},
   "outputs": [
    {
     "data": {
      "text/plain": [
       "0    365\n",
       "1    365\n",
       "Name: yr, dtype: int64"
      ]
     },
     "execution_count": 209,
     "metadata": {},
     "output_type": "execute_result"
    }
   ],
   "source": [
    "df.yr.value_counts()"
   ]
  },
  {
   "cell_type": "code",
   "execution_count": 210,
   "id": "2a3fdede",
   "metadata": {},
   "outputs": [
    {
     "data": {
      "text/plain": [
       "1    463\n",
       "2    246\n",
       "3     21\n",
       "Name: weathersit, dtype: int64"
      ]
     },
     "execution_count": 210,
     "metadata": {},
     "output_type": "execute_result"
    }
   ],
   "source": [
    "df.weathersit.value_counts()"
   ]
  },
  {
   "cell_type": "code",
   "execution_count": 211,
   "id": "4edc24b6",
   "metadata": {},
   "outputs": [],
   "source": [
    "####mapping categorical variable which can be usefull for easy story telling\n",
    "def map_season(x):\n",
    "    return x.map({1:'spring',2:'summer',3:'fall',4:'winter'})\n",
    "df[['season']] = df[['season']].apply(map_season)\n",
    "#df2.season = df2.season.apply(season_map)\n",
    "\n",
    "def map_weather(x):\n",
    "    return x.map({1:'clear',2:'mist',3:'light_snow',4:'Heavy_rain'})\n",
    "df[['weathersit']] = df[['weathersit']].apply(map_weather)\n",
    "\n",
    "def map_mnth(x):\n",
    "    return x.map({1:'jan',2:'feb',3:'mar',4:'apr',5:'may',6:'june',7:'july',8:'aug',9:'sep',10:'oct',11:'nov',12:'dec'})\n",
    "df[['mnth']] = df[['mnth']].apply(map_mnth) \n",
    "\n",
    "#### mapping as per real date 01-01-2018 as Monday\n",
    "def map_weekday(x):\n",
    "    return x.map({5:'sun',6:'mon',0:'tue',1:'wed',2:'thu',3:'fri',4:'sat'})\n",
    "df[['weekday']] = df[['weekday']].apply(map_weekday)"
   ]
  },
  {
   "cell_type": "markdown",
   "id": "bd4516aa",
   "metadata": {},
   "source": [
    "### Dropping features not useful for analysis\n",
    "#### instant, registered, casual,atemp,dteday \n",
    "- registered and casual are random and we are not trying to predict these \n",
    "- atemp as per data dictionary looks to be derived from temp.\n",
    "- instant is just a index\n",
    "- dteday is not significant as we have month/day already in the dataset\n"
   ]
  },
  {
   "cell_type": "code",
   "execution_count": 212,
   "id": "c354de08",
   "metadata": {},
   "outputs": [],
   "source": [
    "df.drop(['atemp','instant','casual', 'registered','dteday'], axis =1, inplace = True)"
   ]
  },
  {
   "cell_type": "code",
   "execution_count": 213,
   "id": "9302d1b3",
   "metadata": {
    "scrolled": true
   },
   "outputs": [
    {
     "data": {
      "text/html": [
       "<div>\n",
       "<style scoped>\n",
       "    .dataframe tbody tr th:only-of-type {\n",
       "        vertical-align: middle;\n",
       "    }\n",
       "\n",
       "    .dataframe tbody tr th {\n",
       "        vertical-align: top;\n",
       "    }\n",
       "\n",
       "    .dataframe thead th {\n",
       "        text-align: right;\n",
       "    }\n",
       "</style>\n",
       "<table border=\"1\" class=\"dataframe\">\n",
       "  <thead>\n",
       "    <tr style=\"text-align: right;\">\n",
       "      <th></th>\n",
       "      <th>season</th>\n",
       "      <th>yr</th>\n",
       "      <th>mnth</th>\n",
       "      <th>holiday</th>\n",
       "      <th>weekday</th>\n",
       "      <th>workingday</th>\n",
       "      <th>weathersit</th>\n",
       "      <th>temp</th>\n",
       "      <th>hum</th>\n",
       "      <th>windspeed</th>\n",
       "      <th>cnt</th>\n",
       "    </tr>\n",
       "  </thead>\n",
       "  <tbody>\n",
       "    <tr>\n",
       "      <th>0</th>\n",
       "      <td>spring</td>\n",
       "      <td>0</td>\n",
       "      <td>jan</td>\n",
       "      <td>0</td>\n",
       "      <td>mon</td>\n",
       "      <td>0</td>\n",
       "      <td>mist</td>\n",
       "      <td>14.110847</td>\n",
       "      <td>80.5833</td>\n",
       "      <td>10.749882</td>\n",
       "      <td>985</td>\n",
       "    </tr>\n",
       "    <tr>\n",
       "      <th>1</th>\n",
       "      <td>spring</td>\n",
       "      <td>0</td>\n",
       "      <td>jan</td>\n",
       "      <td>0</td>\n",
       "      <td>tue</td>\n",
       "      <td>0</td>\n",
       "      <td>mist</td>\n",
       "      <td>14.902598</td>\n",
       "      <td>69.6087</td>\n",
       "      <td>16.652113</td>\n",
       "      <td>801</td>\n",
       "    </tr>\n",
       "    <tr>\n",
       "      <th>2</th>\n",
       "      <td>spring</td>\n",
       "      <td>0</td>\n",
       "      <td>jan</td>\n",
       "      <td>0</td>\n",
       "      <td>wed</td>\n",
       "      <td>1</td>\n",
       "      <td>clear</td>\n",
       "      <td>8.050924</td>\n",
       "      <td>43.7273</td>\n",
       "      <td>16.636703</td>\n",
       "      <td>1349</td>\n",
       "    </tr>\n",
       "    <tr>\n",
       "      <th>3</th>\n",
       "      <td>spring</td>\n",
       "      <td>0</td>\n",
       "      <td>jan</td>\n",
       "      <td>0</td>\n",
       "      <td>thu</td>\n",
       "      <td>1</td>\n",
       "      <td>clear</td>\n",
       "      <td>8.200000</td>\n",
       "      <td>59.0435</td>\n",
       "      <td>10.739832</td>\n",
       "      <td>1562</td>\n",
       "    </tr>\n",
       "    <tr>\n",
       "      <th>4</th>\n",
       "      <td>spring</td>\n",
       "      <td>0</td>\n",
       "      <td>jan</td>\n",
       "      <td>0</td>\n",
       "      <td>fri</td>\n",
       "      <td>1</td>\n",
       "      <td>clear</td>\n",
       "      <td>9.305237</td>\n",
       "      <td>43.6957</td>\n",
       "      <td>12.522300</td>\n",
       "      <td>1600</td>\n",
       "    </tr>\n",
       "  </tbody>\n",
       "</table>\n",
       "</div>"
      ],
      "text/plain": [
       "   season  yr mnth  holiday weekday  workingday weathersit       temp  \\\n",
       "0  spring   0  jan        0     mon           0       mist  14.110847   \n",
       "1  spring   0  jan        0     tue           0       mist  14.902598   \n",
       "2  spring   0  jan        0     wed           1      clear   8.050924   \n",
       "3  spring   0  jan        0     thu           1      clear   8.200000   \n",
       "4  spring   0  jan        0     fri           1      clear   9.305237   \n",
       "\n",
       "       hum  windspeed   cnt  \n",
       "0  80.5833  10.749882   985  \n",
       "1  69.6087  16.652113   801  \n",
       "2  43.7273  16.636703  1349  \n",
       "3  59.0435  10.739832  1562  \n",
       "4  43.6957  12.522300  1600  "
      ]
     },
     "execution_count": 213,
     "metadata": {},
     "output_type": "execute_result"
    }
   ],
   "source": [
    "df.head()"
   ]
  },
  {
   "cell_type": "markdown",
   "id": "3fb6350d",
   "metadata": {},
   "source": [
    "#### Visualising Categorical Variables"
   ]
  },
  {
   "cell_type": "code",
   "execution_count": 214,
   "id": "7d3bc042",
   "metadata": {
    "scrolled": true
   },
   "outputs": [
    {
     "data": {
      "image/png": "[encoded data removed]",
      "text/plain": [
       "<Figure size 1440x864 with 6 Axes>"
      ]
     },
     "metadata": {
      "needs_background": "light"
     },
     "output_type": "display_data"
    }
   ],
   "source": [
    "plt.figure(figsize=(20, 12))\n",
    "plt.subplot(2,3,1)\n",
    "sns.boxplot(x = 'season', y = 'cnt', data = df)\n",
    "plt.subplot(2,3,2)\n",
    "sns.boxplot(x = 'mnth', y = 'cnt', data = df)\n",
    "plt.subplot(2,3,3)\n",
    "sns.boxplot(x = 'weekday', y = 'cnt', data = df)\n",
    "plt.subplot(2,3,4)\n",
    "sns.boxplot(x = 'workingday', y = 'cnt', data = df)\n",
    "plt.subplot(2,3,5)\n",
    "sns.boxplot(x = 'weathersit', y = 'cnt', data = df)\n",
    "plt.subplot(2,3,6)\n",
    "sns.boxplot(x = 'yr', y = 'cnt', data = df)\n",
    "plt.show()"
   ]
  },
  {
   "cell_type": "code",
   "execution_count": 215,
   "id": "e3673488",
   "metadata": {
    "scrolled": true
   },
   "outputs": [
    {
     "data": {
      "image/png": "[encoded data removed]",
      "text/plain": [
       "<Figure size 1440x864 with 7 Axes>"
      ]
     },
     "metadata": {
      "needs_background": "light"
     },
     "output_type": "display_data"
    }
   ],
   "source": [
    "plt.figure(figsize=(20, 12))\n",
    "plt.subplot(3,3,1)\n",
    "sns.barplot(x = 'season', y = 'cnt', data = df)\n",
    "plt.subplot(3,3,2)\n",
    "sns.barplot(x = 'mnth', y = 'cnt', data = df)\n",
    "plt.subplot(3,3,3)\n",
    "sns.barplot(x = 'weekday', y = 'cnt', data = df)\n",
    "plt.subplot(3,3,4)\n",
    "sns.barplot(x = 'workingday', y = 'cnt', data = df)\n",
    "plt.subplot(3,3,5)\n",
    "sns.barplot(x = 'weathersit', y = 'cnt', data = df)\n",
    "plt.subplot(3,3,6)\n",
    "sns.barplot(x = 'yr', y = 'cnt', data = df)\n",
    "plt.subplot(3,3,7)\n",
    "sns.barplot(x = 'holiday', y = 'cnt', data = df)\n",
    "plt.show()\n"
   ]
  },
  {
   "cell_type": "markdown",
   "id": "badc0242",
   "metadata": {},
   "source": [
    "#### Observation\n",
    "- 2nd yr i.e., 2019 have higher bike rentals comparatively\n",
    "- Good weathersit have higher bike rentals\n",
    "- season fall have higher bike rentals\n",
    "- months from june to september have higher bike rentals\n",
    "- holidays have lesser bike rentals\n",
    "- working day have higher bike rentals marginally"
   ]
  },
  {
   "cell_type": "code",
   "execution_count": 216,
   "id": "83f3fe91",
   "metadata": {
    "scrolled": false
   },
   "outputs": [
    {
     "data": {
      "text/plain": [
       "<AxesSubplot:ylabel='windspeed'>"
      ]
     },
     "execution_count": 216,
     "metadata": {},
     "output_type": "execute_result"
    },
    {
     "data": {
      "image/png": "[encoded data removed]",
      "text/plain": [
       "<Figure size 1080x360 with 3 Axes>"
      ]
     },
     "metadata": {
      "needs_background": "light"
     },
     "output_type": "display_data"
    }
   ],
   "source": [
    "#Checking for any outliers if any outlier treatment is required\n",
    "plt.figure(figsize=(15, 5))\n",
    "plt.subplot(1,3,1)\n",
    "sns.boxplot(y =df.hum, data = df)\n",
    "plt.subplot(1,3,2)\n",
    "sns.boxplot(y =df.temp, data = df)\n",
    "plt.subplot(1,3,3)\n",
    "sns.boxplot(y =df.windspeed, data = df)\n"
   ]
  },
  {
   "cell_type": "markdown",
   "id": "4c99065c",
   "metadata": {},
   "source": [
    "#### Observation\n",
    "- No outlier treatment is required for continuous variables"
   ]
  },
  {
   "cell_type": "code",
   "execution_count": 217,
   "id": "bca52160",
   "metadata": {},
   "outputs": [
    {
     "data": {
      "text/html": [
       "<div>\n",
       "<style scoped>\n",
       "    .dataframe tbody tr th:only-of-type {\n",
       "        vertical-align: middle;\n",
       "    }\n",
       "\n",
       "    .dataframe tbody tr th {\n",
       "        vertical-align: top;\n",
       "    }\n",
       "\n",
       "    .dataframe thead th {\n",
       "        text-align: right;\n",
       "    }\n",
       "</style>\n",
       "<table border=\"1\" class=\"dataframe\">\n",
       "  <thead>\n",
       "    <tr style=\"text-align: right;\">\n",
       "      <th></th>\n",
       "      <th>season</th>\n",
       "      <th>yr</th>\n",
       "      <th>mnth</th>\n",
       "      <th>holiday</th>\n",
       "      <th>weekday</th>\n",
       "      <th>workingday</th>\n",
       "      <th>weathersit</th>\n",
       "      <th>temp</th>\n",
       "      <th>hum</th>\n",
       "      <th>windspeed</th>\n",
       "      <th>cnt</th>\n",
       "    </tr>\n",
       "  </thead>\n",
       "  <tbody>\n",
       "    <tr>\n",
       "      <th>0</th>\n",
       "      <td>spring</td>\n",
       "      <td>0</td>\n",
       "      <td>jan</td>\n",
       "      <td>0</td>\n",
       "      <td>mon</td>\n",
       "      <td>0</td>\n",
       "      <td>mist</td>\n",
       "      <td>14.110847</td>\n",
       "      <td>80.5833</td>\n",
       "      <td>10.749882</td>\n",
       "      <td>985</td>\n",
       "    </tr>\n",
       "    <tr>\n",
       "      <th>1</th>\n",
       "      <td>spring</td>\n",
       "      <td>0</td>\n",
       "      <td>jan</td>\n",
       "      <td>0</td>\n",
       "      <td>tue</td>\n",
       "      <td>0</td>\n",
       "      <td>mist</td>\n",
       "      <td>14.902598</td>\n",
       "      <td>69.6087</td>\n",
       "      <td>16.652113</td>\n",
       "      <td>801</td>\n",
       "    </tr>\n",
       "    <tr>\n",
       "      <th>2</th>\n",
       "      <td>spring</td>\n",
       "      <td>0</td>\n",
       "      <td>jan</td>\n",
       "      <td>0</td>\n",
       "      <td>wed</td>\n",
       "      <td>1</td>\n",
       "      <td>clear</td>\n",
       "      <td>8.050924</td>\n",
       "      <td>43.7273</td>\n",
       "      <td>16.636703</td>\n",
       "      <td>1349</td>\n",
       "    </tr>\n",
       "    <tr>\n",
       "      <th>3</th>\n",
       "      <td>spring</td>\n",
       "      <td>0</td>\n",
       "      <td>jan</td>\n",
       "      <td>0</td>\n",
       "      <td>thu</td>\n",
       "      <td>1</td>\n",
       "      <td>clear</td>\n",
       "      <td>8.200000</td>\n",
       "      <td>59.0435</td>\n",
       "      <td>10.739832</td>\n",
       "      <td>1562</td>\n",
       "    </tr>\n",
       "    <tr>\n",
       "      <th>4</th>\n",
       "      <td>spring</td>\n",
       "      <td>0</td>\n",
       "      <td>jan</td>\n",
       "      <td>0</td>\n",
       "      <td>fri</td>\n",
       "      <td>1</td>\n",
       "      <td>clear</td>\n",
       "      <td>9.305237</td>\n",
       "      <td>43.6957</td>\n",
       "      <td>12.522300</td>\n",
       "      <td>1600</td>\n",
       "    </tr>\n",
       "  </tbody>\n",
       "</table>\n",
       "</div>"
      ],
      "text/plain": [
       "   season  yr mnth  holiday weekday  workingday weathersit       temp  \\\n",
       "0  spring   0  jan        0     mon           0       mist  14.110847   \n",
       "1  spring   0  jan        0     tue           0       mist  14.902598   \n",
       "2  spring   0  jan        0     wed           1      clear   8.050924   \n",
       "3  spring   0  jan        0     thu           1      clear   8.200000   \n",
       "4  spring   0  jan        0     fri           1      clear   9.305237   \n",
       "\n",
       "       hum  windspeed   cnt  \n",
       "0  80.5833  10.749882   985  \n",
       "1  69.6087  16.652113   801  \n",
       "2  43.7273  16.636703  1349  \n",
       "3  59.0435  10.739832  1562  \n",
       "4  43.6957  12.522300  1600  "
      ]
     },
     "execution_count": 217,
     "metadata": {},
     "output_type": "execute_result"
    }
   ],
   "source": [
    "df.head()"
   ]
  },
  {
   "cell_type": "markdown",
   "id": "d87ab097",
   "metadata": {},
   "source": [
    "#### Visualising Numeric Variables"
   ]
  },
  {
   "cell_type": "code",
   "execution_count": 218,
   "id": "e45acd35",
   "metadata": {},
   "outputs": [
    {
     "data": {
      "image/png": "[encoded data removed]",
      "text/plain": [
       "<Figure size 720x720 with 20 Axes>"
      ]
     },
     "metadata": {
      "needs_background": "light"
     },
     "output_type": "display_data"
    }
   ],
   "source": [
    "sns.pairplot(df[['temp','hum','windspeed','cnt']])\n",
    "plt.show()"
   ]
  },
  {
   "cell_type": "markdown",
   "id": "2bb26556",
   "metadata": {},
   "source": [
    "#### Observation\n",
    "- cnt feature have linear relationship with temp, windspeed"
   ]
  },
  {
   "cell_type": "code",
   "execution_count": 219,
   "id": "2b2071ce",
   "metadata": {
    "scrolled": false
   },
   "outputs": [
    {
     "data": {
      "image/png": "[encoded data removed]",
      "text/plain": [
       "<Figure size 1152x720 with 2 Axes>"
      ]
     },
     "metadata": {
      "needs_background": "light"
     },
     "output_type": "display_data"
    }
   ],
   "source": [
    "# Let's check the correlation coefficients to see which variables are highly correlated\n",
    "\n",
    "plt.figure(figsize = (16, 10))\n",
    "sns.heatmap(df.corr(), annot = True, cmap=\"YlGnBu\")\n",
    "plt.show()"
   ]
  },
  {
   "cell_type": "markdown",
   "id": "e35ac66b",
   "metadata": {},
   "source": [
    "#### Observation\n",
    "- target variable 'cnt' is correlated on higher side with temp, yr, month, windspeed(descending order of correlation)"
   ]
  },
  {
   "cell_type": "markdown",
   "id": "9fa62226",
   "metadata": {},
   "source": [
    "### Dummy variables"
   ]
  },
  {
   "cell_type": "code",
   "execution_count": 220,
   "id": "6e4014c4",
   "metadata": {},
   "outputs": [],
   "source": [
    "# Get the dummy variables for the feature 'season', 'weathersit' etc., and store it in a new variable\n",
    "dummy_season = pd.get_dummies(df[[ 'season']],drop_first = True)\n",
    "dummy_weathersit = pd.get_dummies(df[[ 'weathersit']],drop_first = True)\n",
    "dummy_mnth = pd.get_dummies(df[[ 'mnth']],drop_first = True)\n",
    "dummy_weekday = pd.get_dummies(df[[ 'weekday']],drop_first = True)\n",
    "#one_hot_encoded_data.shape\n",
    "frames = [df,dummy_weathersit,dummy_mnth,dummy_weekday,dummy_season]\n",
    "df1 = pd.concat(frames, axis=1)"
   ]
  },
  {
   "cell_type": "code",
   "execution_count": 221,
   "id": "02578bc1",
   "metadata": {},
   "outputs": [
    {
     "data": {
      "text/plain": [
       "(730, 33)"
      ]
     },
     "execution_count": 221,
     "metadata": {},
     "output_type": "execute_result"
    }
   ],
   "source": [
    "df1.shape"
   ]
  },
  {
   "cell_type": "code",
   "execution_count": 222,
   "id": "9aea45b0",
   "metadata": {},
   "outputs": [],
   "source": [
    "### dropping the categorical var as dummies are created\n",
    "df1.drop(['weathersit', 'season','mnth','weekday'], axis =1 , inplace = True)"
   ]
  },
  {
   "cell_type": "code",
   "execution_count": 223,
   "id": "05cc370d",
   "metadata": {
    "scrolled": true
   },
   "outputs": [
    {
     "name": "stdout",
     "output_type": "stream",
     "text": [
      "<class 'pandas.core.frame.DataFrame'>\n",
      "RangeIndex: 730 entries, 0 to 729\n",
      "Data columns (total 29 columns):\n",
      " #   Column                 Non-Null Count  Dtype  \n",
      "---  ------                 --------------  -----  \n",
      " 0   yr                     730 non-null    int64  \n",
      " 1   holiday                730 non-null    int64  \n",
      " 2   workingday             730 non-null    int64  \n",
      " 3   temp                   730 non-null    float64\n",
      " 4   hum                    730 non-null    float64\n",
      " 5   windspeed              730 non-null    float64\n",
      " 6   cnt                    730 non-null    int64  \n",
      " 7   weathersit_light_snow  730 non-null    uint8  \n",
      " 8   weathersit_mist        730 non-null    uint8  \n",
      " 9   mnth_aug               730 non-null    uint8  \n",
      " 10  mnth_dec               730 non-null    uint8  \n",
      " 11  mnth_feb               730 non-null    uint8  \n",
      " 12  mnth_jan               730 non-null    uint8  \n",
      " 13  mnth_july              730 non-null    uint8  \n",
      " 14  mnth_june              730 non-null    uint8  \n",
      " 15  mnth_mar               730 non-null    uint8  \n",
      " 16  mnth_may               730 non-null    uint8  \n",
      " 17  mnth_nov               730 non-null    uint8  \n",
      " 18  mnth_oct               730 non-null    uint8  \n",
      " 19  mnth_sep               730 non-null    uint8  \n",
      " 20  weekday_mon            730 non-null    uint8  \n",
      " 21  weekday_sat            730 non-null    uint8  \n",
      " 22  weekday_sun            730 non-null    uint8  \n",
      " 23  weekday_thu            730 non-null    uint8  \n",
      " 24  weekday_tue            730 non-null    uint8  \n",
      " 25  weekday_wed            730 non-null    uint8  \n",
      " 26  season_spring          730 non-null    uint8  \n",
      " 27  season_summer          730 non-null    uint8  \n",
      " 28  season_winter          730 non-null    uint8  \n",
      "dtypes: float64(3), int64(4), uint8(22)\n",
      "memory usage: 55.7 KB\n"
     ]
    }
   ],
   "source": [
    "df1.info()"
   ]
  },
  {
   "cell_type": "markdown",
   "id": "7b185472",
   "metadata": {},
   "source": [
    "## Step 3: Splitting the Data into Training and Testing Sets\n",
    "\n"
   ]
  },
  {
   "cell_type": "code",
   "execution_count": 225,
   "id": "cfdf214a",
   "metadata": {},
   "outputs": [],
   "source": [
    "from sklearn.model_selection import train_test_split\n",
    "\n",
    "df1_train, df1_test = train_test_split(df1, train_size = 0.7, test_size = 0.3, random_state = 100)"
   ]
  },
  {
   "cell_type": "code",
   "execution_count": 226,
   "id": "f554d04a",
   "metadata": {},
   "outputs": [
    {
     "data": {
      "text/plain": [
       "(510, 29)"
      ]
     },
     "execution_count": 226,
     "metadata": {},
     "output_type": "execute_result"
    }
   ],
   "source": [
    "df1_train.shape"
   ]
  },
  {
   "cell_type": "code",
   "execution_count": 227,
   "id": "7b2f3d46",
   "metadata": {},
   "outputs": [
    {
     "data": {
      "text/plain": [
       "(219, 29)"
      ]
     },
     "execution_count": 227,
     "metadata": {},
     "output_type": "execute_result"
    }
   ],
   "source": [
    "df1_test.shape"
   ]
  },
  {
   "cell_type": "code",
   "execution_count": 228,
   "id": "31256448",
   "metadata": {},
   "outputs": [
    {
     "data": {
      "text/plain": [
       "(730, 29)"
      ]
     },
     "execution_count": 228,
     "metadata": {},
     "output_type": "execute_result"
    }
   ],
   "source": [
    "df1.shape"
   ]
  },
  {
   "cell_type": "code",
   "execution_count": 229,
   "id": "31d32796",
   "metadata": {
    "scrolled": true
   },
   "outputs": [
    {
     "data": {
      "text/html": [
       "<div>\n",
       "<style scoped>\n",
       "    .dataframe tbody tr th:only-of-type {\n",
       "        vertical-align: middle;\n",
       "    }\n",
       "\n",
       "    .dataframe tbody tr th {\n",
       "        vertical-align: top;\n",
       "    }\n",
       "\n",
       "    .dataframe thead th {\n",
       "        text-align: right;\n",
       "    }\n",
       "</style>\n",
       "<table border=\"1\" class=\"dataframe\">\n",
       "  <thead>\n",
       "    <tr style=\"text-align: right;\">\n",
       "      <th></th>\n",
       "      <th>yr</th>\n",
       "      <th>holiday</th>\n",
       "      <th>workingday</th>\n",
       "      <th>temp</th>\n",
       "      <th>hum</th>\n",
       "      <th>windspeed</th>\n",
       "      <th>cnt</th>\n",
       "      <th>weathersit_light_snow</th>\n",
       "      <th>weathersit_mist</th>\n",
       "      <th>mnth_aug</th>\n",
       "      <th>...</th>\n",
       "      <th>mnth_sep</th>\n",
       "      <th>weekday_mon</th>\n",
       "      <th>weekday_sat</th>\n",
       "      <th>weekday_sun</th>\n",
       "      <th>weekday_thu</th>\n",
       "      <th>weekday_tue</th>\n",
       "      <th>weekday_wed</th>\n",
       "      <th>season_spring</th>\n",
       "      <th>season_summer</th>\n",
       "      <th>season_winter</th>\n",
       "    </tr>\n",
       "  </thead>\n",
       "  <tbody>\n",
       "    <tr>\n",
       "      <th>653</th>\n",
       "      <td>1</td>\n",
       "      <td>0</td>\n",
       "      <td>1</td>\n",
       "      <td>19.201653</td>\n",
       "      <td>55.8333</td>\n",
       "      <td>12.208807</td>\n",
       "      <td>7534</td>\n",
       "      <td>0</td>\n",
       "      <td>0</td>\n",
       "      <td>0</td>\n",
       "      <td>...</td>\n",
       "      <td>0</td>\n",
       "      <td>0</td>\n",
       "      <td>0</td>\n",
       "      <td>0</td>\n",
       "      <td>1</td>\n",
       "      <td>0</td>\n",
       "      <td>0</td>\n",
       "      <td>0</td>\n",
       "      <td>0</td>\n",
       "      <td>1</td>\n",
       "    </tr>\n",
       "    <tr>\n",
       "      <th>576</th>\n",
       "      <td>1</td>\n",
       "      <td>0</td>\n",
       "      <td>1</td>\n",
       "      <td>29.246653</td>\n",
       "      <td>70.4167</td>\n",
       "      <td>11.083475</td>\n",
       "      <td>7216</td>\n",
       "      <td>0</td>\n",
       "      <td>0</td>\n",
       "      <td>0</td>\n",
       "      <td>...</td>\n",
       "      <td>0</td>\n",
       "      <td>0</td>\n",
       "      <td>0</td>\n",
       "      <td>0</td>\n",
       "      <td>1</td>\n",
       "      <td>0</td>\n",
       "      <td>0</td>\n",
       "      <td>0</td>\n",
       "      <td>0</td>\n",
       "      <td>0</td>\n",
       "    </tr>\n",
       "    <tr>\n",
       "      <th>426</th>\n",
       "      <td>1</td>\n",
       "      <td>0</td>\n",
       "      <td>0</td>\n",
       "      <td>16.980847</td>\n",
       "      <td>62.1250</td>\n",
       "      <td>10.792293</td>\n",
       "      <td>4066</td>\n",
       "      <td>0</td>\n",
       "      <td>1</td>\n",
       "      <td>0</td>\n",
       "      <td>...</td>\n",
       "      <td>0</td>\n",
       "      <td>1</td>\n",
       "      <td>0</td>\n",
       "      <td>0</td>\n",
       "      <td>0</td>\n",
       "      <td>0</td>\n",
       "      <td>0</td>\n",
       "      <td>1</td>\n",
       "      <td>0</td>\n",
       "      <td>0</td>\n",
       "    </tr>\n",
       "    <tr>\n",
       "      <th>728</th>\n",
       "      <td>1</td>\n",
       "      <td>0</td>\n",
       "      <td>0</td>\n",
       "      <td>10.489153</td>\n",
       "      <td>48.3333</td>\n",
       "      <td>23.500518</td>\n",
       "      <td>1796</td>\n",
       "      <td>0</td>\n",
       "      <td>0</td>\n",
       "      <td>0</td>\n",
       "      <td>...</td>\n",
       "      <td>0</td>\n",
       "      <td>0</td>\n",
       "      <td>0</td>\n",
       "      <td>0</td>\n",
       "      <td>0</td>\n",
       "      <td>1</td>\n",
       "      <td>0</td>\n",
       "      <td>1</td>\n",
       "      <td>0</td>\n",
       "      <td>0</td>\n",
       "    </tr>\n",
       "    <tr>\n",
       "      <th>482</th>\n",
       "      <td>1</td>\n",
       "      <td>0</td>\n",
       "      <td>0</td>\n",
       "      <td>15.443347</td>\n",
       "      <td>48.9583</td>\n",
       "      <td>8.708325</td>\n",
       "      <td>4220</td>\n",
       "      <td>0</td>\n",
       "      <td>1</td>\n",
       "      <td>0</td>\n",
       "      <td>...</td>\n",
       "      <td>0</td>\n",
       "      <td>1</td>\n",
       "      <td>0</td>\n",
       "      <td>0</td>\n",
       "      <td>0</td>\n",
       "      <td>0</td>\n",
       "      <td>0</td>\n",
       "      <td>0</td>\n",
       "      <td>1</td>\n",
       "      <td>0</td>\n",
       "    </tr>\n",
       "  </tbody>\n",
       "</table>\n",
       "<p>5 rows × 29 columns</p>\n",
       "</div>"
      ],
      "text/plain": [
       "     yr  holiday  workingday       temp      hum  windspeed   cnt  \\\n",
       "653   1        0           1  19.201653  55.8333  12.208807  7534   \n",
       "576   1        0           1  29.246653  70.4167  11.083475  7216   \n",
       "426   1        0           0  16.980847  62.1250  10.792293  4066   \n",
       "728   1        0           0  10.489153  48.3333  23.500518  1796   \n",
       "482   1        0           0  15.443347  48.9583   8.708325  4220   \n",
       "\n",
       "     weathersit_light_snow  weathersit_mist  mnth_aug  ...  mnth_sep  \\\n",
       "653                      0                0         0  ...         0   \n",
       "576                      0                0         0  ...         0   \n",
       "426                      0                1         0  ...         0   \n",
       "728                      0                0         0  ...         0   \n",
       "482                      0                1         0  ...         0   \n",
       "\n",
       "     weekday_mon  weekday_sat  weekday_sun  weekday_thu  weekday_tue  \\\n",
       "653            0            0            0            1            0   \n",
       "576            0            0            0            1            0   \n",
       "426            1            0            0            0            0   \n",
       "728            0            0            0            0            1   \n",
       "482            1            0            0            0            0   \n",
       "\n",
       "     weekday_wed  season_spring  season_summer  season_winter  \n",
       "653            0              0              0              1  \n",
       "576            0              0              0              0  \n",
       "426            0              1              0              0  \n",
       "728            0              1              0              0  \n",
       "482            0              0              1              0  \n",
       "\n",
       "[5 rows x 29 columns]"
      ]
     },
     "execution_count": 229,
     "metadata": {},
     "output_type": "execute_result"
    }
   ],
   "source": [
    "df1_train.head()"
   ]
  },
  {
   "cell_type": "markdown",
   "id": "c0fa9206",
   "metadata": {},
   "source": [
    "### Rescaling the Features \n"
   ]
  },
  {
   "cell_type": "code",
   "execution_count": 230,
   "id": "3a4d8076",
   "metadata": {},
   "outputs": [],
   "source": [
    "from sklearn.preprocessing import MinMaxScaler"
   ]
  },
  {
   "cell_type": "code",
   "execution_count": 231,
   "id": "9cd094cc",
   "metadata": {},
   "outputs": [],
   "source": [
    "scaler = MinMaxScaler()"
   ]
  },
  {
   "cell_type": "code",
   "execution_count": 232,
   "id": "1040098b",
   "metadata": {},
   "outputs": [],
   "source": [
    "num_vars = ['temp','hum','windspeed','cnt']\n",
    "\n",
    "df1_train[num_vars] = scaler.fit_transform(df1_train[num_vars])"
   ]
  },
  {
   "cell_type": "code",
   "execution_count": 233,
   "id": "bbad9d8e",
   "metadata": {},
   "outputs": [
    {
     "data": {
      "text/html": [
       "<div>\n",
       "<style scoped>\n",
       "    .dataframe tbody tr th:only-of-type {\n",
       "        vertical-align: middle;\n",
       "    }\n",
       "\n",
       "    .dataframe tbody tr th {\n",
       "        vertical-align: top;\n",
       "    }\n",
       "\n",
       "    .dataframe thead th {\n",
       "        text-align: right;\n",
       "    }\n",
       "</style>\n",
       "<table border=\"1\" class=\"dataframe\">\n",
       "  <thead>\n",
       "    <tr style=\"text-align: right;\">\n",
       "      <th></th>\n",
       "      <th>yr</th>\n",
       "      <th>holiday</th>\n",
       "      <th>workingday</th>\n",
       "      <th>temp</th>\n",
       "      <th>hum</th>\n",
       "      <th>windspeed</th>\n",
       "      <th>cnt</th>\n",
       "      <th>weathersit_light_snow</th>\n",
       "      <th>weathersit_mist</th>\n",
       "      <th>mnth_aug</th>\n",
       "      <th>...</th>\n",
       "      <th>mnth_sep</th>\n",
       "      <th>weekday_mon</th>\n",
       "      <th>weekday_sat</th>\n",
       "      <th>weekday_sun</th>\n",
       "      <th>weekday_thu</th>\n",
       "      <th>weekday_tue</th>\n",
       "      <th>weekday_wed</th>\n",
       "      <th>season_spring</th>\n",
       "      <th>season_summer</th>\n",
       "      <th>season_winter</th>\n",
       "    </tr>\n",
       "  </thead>\n",
       "  <tbody>\n",
       "    <tr>\n",
       "      <th>653</th>\n",
       "      <td>1</td>\n",
       "      <td>0</td>\n",
       "      <td>1</td>\n",
       "      <td>0.509887</td>\n",
       "      <td>0.575354</td>\n",
       "      <td>0.300794</td>\n",
       "      <td>0.864243</td>\n",
       "      <td>0</td>\n",
       "      <td>0</td>\n",
       "      <td>0</td>\n",
       "      <td>...</td>\n",
       "      <td>0</td>\n",
       "      <td>0</td>\n",
       "      <td>0</td>\n",
       "      <td>0</td>\n",
       "      <td>1</td>\n",
       "      <td>0</td>\n",
       "      <td>0</td>\n",
       "      <td>0</td>\n",
       "      <td>0</td>\n",
       "      <td>1</td>\n",
       "    </tr>\n",
       "    <tr>\n",
       "      <th>576</th>\n",
       "      <td>1</td>\n",
       "      <td>0</td>\n",
       "      <td>1</td>\n",
       "      <td>0.815169</td>\n",
       "      <td>0.725633</td>\n",
       "      <td>0.264686</td>\n",
       "      <td>0.827658</td>\n",
       "      <td>0</td>\n",
       "      <td>0</td>\n",
       "      <td>0</td>\n",
       "      <td>...</td>\n",
       "      <td>0</td>\n",
       "      <td>0</td>\n",
       "      <td>0</td>\n",
       "      <td>0</td>\n",
       "      <td>1</td>\n",
       "      <td>0</td>\n",
       "      <td>0</td>\n",
       "      <td>0</td>\n",
       "      <td>0</td>\n",
       "      <td>0</td>\n",
       "    </tr>\n",
       "    <tr>\n",
       "      <th>426</th>\n",
       "      <td>1</td>\n",
       "      <td>0</td>\n",
       "      <td>0</td>\n",
       "      <td>0.442393</td>\n",
       "      <td>0.640189</td>\n",
       "      <td>0.255342</td>\n",
       "      <td>0.465255</td>\n",
       "      <td>0</td>\n",
       "      <td>1</td>\n",
       "      <td>0</td>\n",
       "      <td>...</td>\n",
       "      <td>0</td>\n",
       "      <td>1</td>\n",
       "      <td>0</td>\n",
       "      <td>0</td>\n",
       "      <td>0</td>\n",
       "      <td>0</td>\n",
       "      <td>0</td>\n",
       "      <td>1</td>\n",
       "      <td>0</td>\n",
       "      <td>0</td>\n",
       "    </tr>\n",
       "    <tr>\n",
       "      <th>728</th>\n",
       "      <td>1</td>\n",
       "      <td>0</td>\n",
       "      <td>0</td>\n",
       "      <td>0.245101</td>\n",
       "      <td>0.498067</td>\n",
       "      <td>0.663106</td>\n",
       "      <td>0.204096</td>\n",
       "      <td>0</td>\n",
       "      <td>0</td>\n",
       "      <td>0</td>\n",
       "      <td>...</td>\n",
       "      <td>0</td>\n",
       "      <td>0</td>\n",
       "      <td>0</td>\n",
       "      <td>0</td>\n",
       "      <td>0</td>\n",
       "      <td>1</td>\n",
       "      <td>0</td>\n",
       "      <td>1</td>\n",
       "      <td>0</td>\n",
       "      <td>0</td>\n",
       "    </tr>\n",
       "    <tr>\n",
       "      <th>482</th>\n",
       "      <td>1</td>\n",
       "      <td>0</td>\n",
       "      <td>0</td>\n",
       "      <td>0.395666</td>\n",
       "      <td>0.504508</td>\n",
       "      <td>0.188475</td>\n",
       "      <td>0.482973</td>\n",
       "      <td>0</td>\n",
       "      <td>1</td>\n",
       "      <td>0</td>\n",
       "      <td>...</td>\n",
       "      <td>0</td>\n",
       "      <td>1</td>\n",
       "      <td>0</td>\n",
       "      <td>0</td>\n",
       "      <td>0</td>\n",
       "      <td>0</td>\n",
       "      <td>0</td>\n",
       "      <td>0</td>\n",
       "      <td>1</td>\n",
       "      <td>0</td>\n",
       "    </tr>\n",
       "  </tbody>\n",
       "</table>\n",
       "<p>5 rows × 29 columns</p>\n",
       "</div>"
      ],
      "text/plain": [
       "     yr  holiday  workingday      temp       hum  windspeed       cnt  \\\n",
       "653   1        0           1  0.509887  0.575354   0.300794  0.864243   \n",
       "576   1        0           1  0.815169  0.725633   0.264686  0.827658   \n",
       "426   1        0           0  0.442393  0.640189   0.255342  0.465255   \n",
       "728   1        0           0  0.245101  0.498067   0.663106  0.204096   \n",
       "482   1        0           0  0.395666  0.504508   0.188475  0.482973   \n",
       "\n",
       "     weathersit_light_snow  weathersit_mist  mnth_aug  ...  mnth_sep  \\\n",
       "653                      0                0         0  ...         0   \n",
       "576                      0                0         0  ...         0   \n",
       "426                      0                1         0  ...         0   \n",
       "728                      0                0         0  ...         0   \n",
       "482                      0                1         0  ...         0   \n",
       "\n",
       "     weekday_mon  weekday_sat  weekday_sun  weekday_thu  weekday_tue  \\\n",
       "653            0            0            0            1            0   \n",
       "576            0            0            0            1            0   \n",
       "426            1            0            0            0            0   \n",
       "728            0            0            0            0            1   \n",
       "482            1            0            0            0            0   \n",
       "\n",
       "     weekday_wed  season_spring  season_summer  season_winter  \n",
       "653            0              0              0              1  \n",
       "576            0              0              0              0  \n",
       "426            0              1              0              0  \n",
       "728            0              1              0              0  \n",
       "482            0              0              1              0  \n",
       "\n",
       "[5 rows x 29 columns]"
      ]
     },
     "execution_count": 233,
     "metadata": {},
     "output_type": "execute_result"
    }
   ],
   "source": [
    "df1_train.head()"
   ]
  },
  {
   "cell_type": "code",
   "execution_count": 234,
   "id": "3ce13c88",
   "metadata": {
    "scrolled": true
   },
   "outputs": [
    {
     "data": {
      "image/png": "[encoded data removed]",
      "text/plain": [
       "<Figure size 432x288 with 2 Axes>"
      ]
     },
     "metadata": {
      "needs_background": "light"
     },
     "output_type": "display_data"
    }
   ],
   "source": [
    "#plt.figure(figsize = (20, 20))\n",
    "# Let's check the correlation coefficients of few non dummy variable created feature columns to see which variables are highly correlated\n",
    "\n",
    "sns.heatmap(df1_train[['cnt','temp','hum', 'windspeed','yr', 'holiday']].corr(), annot = True, cmap=\"YlGnBu\")\n",
    "plt.show()"
   ]
  },
  {
   "cell_type": "markdown",
   "id": "0834562e",
   "metadata": {},
   "source": [
    "#### Observation\n",
    "- Cnt have high correlation with yr,temp,windspeed"
   ]
  },
  {
   "cell_type": "markdown",
   "id": "c37dba65",
   "metadata": {},
   "source": [
    "### Dividing into X and Y sets for model building"
   ]
  },
  {
   "cell_type": "code",
   "execution_count": 235,
   "id": "f4b938e8",
   "metadata": {},
   "outputs": [],
   "source": [
    "y_train = df1_train.pop('cnt')\n",
    "X_train = df1_train"
   ]
  },
  {
   "cell_type": "code",
   "execution_count": 236,
   "id": "9c1c5d22",
   "metadata": {},
   "outputs": [
    {
     "data": {
      "text/plain": [
       "653    0.864243\n",
       "576    0.827658\n",
       "426    0.465255\n",
       "728    0.204096\n",
       "482    0.482973\n",
       "Name: cnt, dtype: float64"
      ]
     },
     "execution_count": 236,
     "metadata": {},
     "output_type": "execute_result"
    }
   ],
   "source": [
    "y_train.head()"
   ]
  },
  {
   "cell_type": "markdown",
   "id": "18cf74d5",
   "metadata": {},
   "source": [
    "## Step 4: Building a linear model"
   ]
  },
  {
   "cell_type": "markdown",
   "id": "c88fd9b3",
   "metadata": {},
   "source": [
    "#### Adding variables to build a model"
   ]
  },
  {
   "cell_type": "code",
   "execution_count": 237,
   "id": "03f05f3e",
   "metadata": {
    "scrolled": false
   },
   "outputs": [
    {
     "name": "stdout",
     "output_type": "stream",
     "text": [
      "const    0.169798\n",
      "temp     0.639952\n",
      "dtype: float64\n",
      "                            OLS Regression Results                            \n",
      "==============================================================================\n",
      "Dep. Variable:                    cnt   R-squared:                       0.414\n",
      "Model:                            OLS   Adj. R-squared:                  0.413\n",
      "Method:                 Least Squares   F-statistic:                     359.1\n",
      "Date:                Wed, 16 Mar 2022   Prob (F-statistic):           5.80e-61\n",
      "Time:                        20:03:40   Log-Likelihood:                 174.84\n",
      "No. Observations:                 510   AIC:                            -345.7\n",
      "Df Residuals:                     508   BIC:                            -337.2\n",
      "Df Model:                           1                                         \n",
      "Covariance Type:            nonrobust                                         \n",
      "==============================================================================\n",
      "                 coef    std err          t      P>|t|      [0.025      0.975]\n",
      "------------------------------------------------------------------------------\n",
      "const          0.1698      0.020      8.628      0.000       0.131       0.208\n",
      "temp           0.6400      0.034     18.949      0.000       0.574       0.706\n",
      "==============================================================================\n",
      "Omnibus:                        6.280   Durbin-Watson:                   2.047\n",
      "Prob(Omnibus):                  0.043   Jarque-Bera (JB):                4.555\n",
      "Skew:                           0.098   Prob(JB):                        0.103\n",
      "Kurtosis:                       2.580   Cond. No.                         5.76\n",
      "==============================================================================\n",
      "\n",
      "Notes:\n",
      "[1] Standard Errors assume that the covariance matrix of the errors is correctly specified.\n"
     ]
    }
   ],
   "source": [
    "import statsmodels.api as sm\n",
    "\n",
    "# Add a constant\n",
    "X_train_lm = sm.add_constant(X_train[['temp']])\n",
    "\n",
    "# Create a first fitted model\n",
    "lr = sm.OLS(y_train, X_train_lm).fit()\n",
    "#X_train_lm\n",
    "print(lr.params)\n",
    "print(lr.summary())"
   ]
  },
  {
   "cell_type": "markdown",
   "id": "70832bef",
   "metadata": {},
   "source": [
    "#### Adding other feature variables as well to build the model"
   ]
  },
  {
   "cell_type": "code",
   "execution_count": 238,
   "id": "ce933211",
   "metadata": {
    "scrolled": true
   },
   "outputs": [
    {
     "name": "stdout",
     "output_type": "stream",
     "text": [
      "const    0.079628\n",
      "temp     0.583559\n",
      "yr       0.237213\n",
      "dtype: float64\n",
      "                            OLS Regression Results                            \n",
      "==============================================================================\n",
      "Dep. Variable:                    cnt   R-squared:                       0.690\n",
      "Model:                            OLS   Adj. R-squared:                  0.689\n",
      "Method:                 Least Squares   F-statistic:                     564.9\n",
      "Date:                Wed, 16 Mar 2022   Prob (F-statistic):          9.25e-130\n",
      "Time:                        20:03:41   Log-Likelihood:                 337.38\n",
      "No. Observations:                 510   AIC:                            -668.8\n",
      "Df Residuals:                     507   BIC:                            -656.1\n",
      "Df Model:                           2                                         \n",
      "Covariance Type:            nonrobust                                         \n",
      "==============================================================================\n",
      "                 coef    std err          t      P>|t|      [0.025      0.975]\n",
      "------------------------------------------------------------------------------\n",
      "const          0.0796      0.015      5.331      0.000       0.050       0.109\n",
      "temp           0.5836      0.025     23.604      0.000       0.535       0.632\n",
      "yr             0.2372      0.011     21.261      0.000       0.215       0.259\n",
      "==============================================================================\n",
      "Omnibus:                       31.402   Durbin-Watson:                   1.984\n",
      "Prob(Omnibus):                  0.000   Jarque-Bera (JB):               42.724\n",
      "Skew:                          -0.503   Prob(JB):                     5.28e-10\n",
      "Kurtosis:                       4.000   Cond. No.                         6.41\n",
      "==============================================================================\n",
      "\n",
      "Notes:\n",
      "[1] Standard Errors assume that the covariance matrix of the errors is correctly specified.\n"
     ]
    }
   ],
   "source": [
    "import statsmodels.api as sm\n",
    "\n",
    "# Add a constant\n",
    "X_train_lm = sm.add_constant(X_train[['temp', 'yr']])\n",
    "\n",
    "# Create a first fitted model\n",
    "lr = sm.OLS(y_train, X_train_lm).fit()\n",
    "#X_train_lm\n",
    "print(lr.params)\n",
    "print(lr.summary())"
   ]
  },
  {
   "cell_type": "code",
   "execution_count": 239,
   "id": "960180ac",
   "metadata": {
    "scrolled": true
   },
   "outputs": [
    {
     "name": "stdout",
     "output_type": "stream",
     "text": [
      "const        0.157022\n",
      "temp         0.555578\n",
      "yr           0.238494\n",
      "windspeed   -0.196438\n",
      "dtype: float64\n",
      "                            OLS Regression Results                            \n",
      "==============================================================================\n",
      "Dep. Variable:                    cnt   R-squared:                       0.712\n",
      "Model:                            OLS   Adj. R-squared:                  0.710\n",
      "Method:                 Least Squares   F-statistic:                     416.0\n",
      "Date:                Wed, 16 Mar 2022   Prob (F-statistic):          3.84e-136\n",
      "Time:                        20:03:42   Log-Likelihood:                 355.52\n",
      "No. Observations:                 510   AIC:                            -703.0\n",
      "Df Residuals:                     506   BIC:                            -686.1\n",
      "Df Model:                           3                                         \n",
      "Covariance Type:            nonrobust                                         \n",
      "==============================================================================\n",
      "                 coef    std err          t      P>|t|      [0.025      0.975]\n",
      "------------------------------------------------------------------------------\n",
      "const          0.1570      0.019      8.177      0.000       0.119       0.195\n",
      "temp           0.5556      0.024     22.847      0.000       0.508       0.603\n",
      "yr             0.2385      0.011     22.124      0.000       0.217       0.260\n",
      "windspeed     -0.1964      0.032     -6.109      0.000      -0.260      -0.133\n",
      "==============================================================================\n",
      "Omnibus:                       23.079   Durbin-Watson:                   1.990\n",
      "Prob(Omnibus):                  0.000   Jarque-Bera (JB):               28.405\n",
      "Skew:                          -0.433   Prob(JB):                     6.79e-07\n",
      "Kurtosis:                       3.767   Cond. No.                         8.94\n",
      "==============================================================================\n",
      "\n",
      "Notes:\n",
      "[1] Standard Errors assume that the covariance matrix of the errors is correctly specified.\n"
     ]
    }
   ],
   "source": [
    "### adding few more features\n",
    "import statsmodels.api as sm\n",
    "\n",
    "# Add a constant\n",
    "X_train_lm = sm.add_constant(X_train[['temp','yr','windspeed']])\n",
    "\n",
    "# Create a first fitted model\n",
    "lr = sm.OLS(y_train, X_train_lm).fit()\n",
    "#X_train_lm\n",
    "print(lr.params)\n",
    "print(lr.summary())"
   ]
  },
  {
   "cell_type": "markdown",
   "id": "cc21a127",
   "metadata": {},
   "source": [
    "#### Observation\n",
    "- All 3 variables added are significant as p values < 5% and F-statistic is higher with Prob(F-statistic) lower"
   ]
  },
  {
   "cell_type": "markdown",
   "id": "23199d27",
   "metadata": {},
   "source": [
    "### Adding all the variables to the model"
   ]
  },
  {
   "cell_type": "code",
   "execution_count": 240,
   "id": "b8dd6756",
   "metadata": {
    "scrolled": true
   },
   "outputs": [
    {
     "data": {
      "text/plain": [
       "Index(['yr', 'holiday', 'workingday', 'temp', 'hum', 'windspeed', 'cnt',\n",
       "       'weathersit_light_snow', 'weathersit_mist', 'mnth_aug', 'mnth_dec',\n",
       "       'mnth_feb', 'mnth_jan', 'mnth_july', 'mnth_june', 'mnth_mar',\n",
       "       'mnth_may', 'mnth_nov', 'mnth_oct', 'mnth_sep', 'weekday_mon',\n",
       "       'weekday_sat', 'weekday_sun', 'weekday_thu', 'weekday_tue',\n",
       "       'weekday_wed', 'season_spring', 'season_summer', 'season_winter'],\n",
       "      dtype='object')"
      ]
     },
     "execution_count": 240,
     "metadata": {},
     "output_type": "execute_result"
    }
   ],
   "source": [
    "df1.columns"
   ]
  },
  {
   "cell_type": "code",
   "execution_count": 241,
   "id": "1028df0e",
   "metadata": {
    "scrolled": false
   },
   "outputs": [
    {
     "name": "stdout",
     "output_type": "stream",
     "text": [
      "const                    0.242930\n",
      "yr                       0.232116\n",
      "holiday                  0.006726\n",
      "workingday               0.093651\n",
      "temp                     0.450562\n",
      "hum                     -0.151340\n",
      "windspeed               -0.186453\n",
      "weathersit_light_snow   -0.257443\n",
      "weathersit_mist         -0.061066\n",
      "mnth_aug                 0.014404\n",
      "mnth_dec                -0.045586\n",
      "mnth_feb                -0.032282\n",
      "mnth_jan                -0.062777\n",
      "mnth_july               -0.040350\n",
      "mnth_june               -0.002972\n",
      "mnth_mar                 0.001045\n",
      "mnth_may                 0.023940\n",
      "mnth_nov                -0.041851\n",
      "mnth_oct                 0.007534\n",
      "mnth_sep                 0.081060\n",
      "weekday_mon              0.098544\n",
      "weekday_sat             -0.003849\n",
      "weekday_sun              0.005388\n",
      "weekday_thu             -0.013502\n",
      "weekday_tue              0.044008\n",
      "weekday_wed             -0.015519\n",
      "season_spring           -0.048159\n",
      "season_summer            0.038725\n",
      "season_winter            0.105847\n",
      "dtype: float64\n",
      "                            OLS Regression Results                            \n",
      "==============================================================================\n",
      "Dep. Variable:                    cnt   R-squared:                       0.853\n",
      "Model:                            OLS   Adj. R-squared:                  0.845\n",
      "Method:                 Least Squares   F-statistic:                     103.8\n",
      "Date:                Wed, 16 Mar 2022   Prob (F-statistic):          8.74e-182\n",
      "Time:                        20:03:45   Log-Likelihood:                 527.95\n",
      "No. Observations:                 510   AIC:                            -999.9\n",
      "Df Residuals:                     482   BIC:                            -881.3\n",
      "Df Model:                          27                                         \n",
      "Covariance Type:            nonrobust                                         \n",
      "=========================================================================================\n",
      "                            coef    std err          t      P>|t|      [0.025      0.975]\n",
      "-----------------------------------------------------------------------------------------\n",
      "const                     0.2429      0.035      6.854      0.000       0.173       0.313\n",
      "yr                        0.2321      0.008     28.820      0.000       0.216       0.248\n",
      "holiday                   0.0067      0.024      0.278      0.781      -0.041       0.054\n",
      "workingday                0.0937      0.012      7.783      0.000       0.070       0.117\n",
      "temp                      0.4506      0.046      9.734      0.000       0.360       0.542\n",
      "hum                      -0.1513      0.038     -3.933      0.000      -0.227      -0.076\n",
      "windspeed                -0.1865      0.026     -7.257      0.000      -0.237      -0.136\n",
      "weathersit_light_snow    -0.2574      0.026     -9.778      0.000      -0.309      -0.206\n",
      "weathersit_mist          -0.0611      0.010     -5.854      0.000      -0.082      -0.041\n",
      "mnth_aug                  0.0144      0.034      0.428      0.669      -0.052       0.081\n",
      "mnth_dec                 -0.0456      0.034     -1.358      0.175      -0.112       0.020\n",
      "mnth_feb                 -0.0323      0.033     -0.982      0.327      -0.097       0.032\n",
      "mnth_jan                 -0.0628      0.034     -1.873      0.062      -0.129       0.003\n",
      "mnth_july                -0.0404      0.035     -1.151      0.250      -0.109       0.029\n",
      "mnth_june                -0.0030      0.025     -0.119      0.906      -0.052       0.046\n",
      "mnth_mar                  0.0010      0.025      0.043      0.966      -0.047       0.049\n",
      "mnth_may                  0.0239      0.021      1.140      0.255      -0.017       0.065\n",
      "mnth_nov                 -0.0419      0.036     -1.152      0.250      -0.113       0.030\n",
      "mnth_oct                  0.0075      0.036      0.211      0.833      -0.063       0.078\n",
      "mnth_sep                  0.0811      0.032      2.533      0.012       0.018       0.144\n",
      "weekday_mon               0.0985      0.013      7.300      0.000       0.072       0.125\n",
      "weekday_sat              -0.0038      0.015     -0.263      0.793      -0.033       0.025\n",
      "weekday_sun               0.0054      0.015      0.362      0.718      -0.024       0.035\n",
      "weekday_thu              -0.0135      0.015     -0.917      0.359      -0.042       0.015\n",
      "weekday_tue               0.0440      0.014      3.213      0.001       0.017       0.071\n",
      "weekday_wed              -0.0155      0.015     -1.064      0.288      -0.044       0.013\n",
      "season_spring            -0.0482      0.030     -1.607      0.109      -0.107       0.011\n",
      "season_summer             0.0387      0.026      1.478      0.140      -0.013       0.090\n",
      "season_winter             0.1058      0.028      3.794      0.000       0.051       0.161\n",
      "==============================================================================\n",
      "Omnibus:                       84.475   Durbin-Watson:                   2.040\n",
      "Prob(Omnibus):                  0.000   Jarque-Bera (JB):              235.382\n",
      "Skew:                          -0.804   Prob(JB):                     7.72e-52\n",
      "Kurtosis:                       5.914   Cond. No.                     1.29e+16\n",
      "==============================================================================\n",
      "\n",
      "Notes:\n",
      "[1] Standard Errors assume that the covariance matrix of the errors is correctly specified.\n",
      "[2] The smallest eigenvalue is 9.49e-30. This might indicate that there are\n",
      "strong multicollinearity problems or that the design matrix is singular.\n"
     ]
    }
   ],
   "source": [
    "\n",
    "import statsmodels.api as sm\n",
    "\n",
    "# Add a constant\n",
    "X_train_lm = sm.add_constant(X_train)\n",
    "\n",
    "# Create a first fitted model\n",
    "lr_1 = sm.OLS(y_train, X_train_lm).fit()\n",
    "#X_train_lm\n",
    "print(lr_1.params)\n",
    "print(lr_1.summary())"
   ]
  },
  {
   "cell_type": "markdown",
   "id": "11c8a54d",
   "metadata": {},
   "source": [
    "#### Observation:\n",
    "Looking at the p-values, it looks like some of the variables aren't really significant\n",
    "\n",
    "We could simply drop the variable with the highest p value. A better way would be to supplement this with the VIF information. "
   ]
  },
  {
   "cell_type": "markdown",
   "id": "21d24c43",
   "metadata": {},
   "source": [
    "## Checking VIF"
   ]
  },
  {
   "cell_type": "code",
   "execution_count": 242,
   "id": "5a88d3fa",
   "metadata": {},
   "outputs": [],
   "source": [
    "# Check for the VIF values of the feature variables\n",
    "from statsmodels.stats.outliers_influence import variance_inflation_factor"
   ]
  },
  {
   "cell_type": "code",
   "execution_count": 243,
   "id": "189457fb",
   "metadata": {
    "scrolled": true
   },
   "outputs": [
    {
     "data": {
      "text/html": [
       "<div>\n",
       "<style scoped>\n",
       "    .dataframe tbody tr th:only-of-type {\n",
       "        vertical-align: middle;\n",
       "    }\n",
       "\n",
       "    .dataframe tbody tr th {\n",
       "        vertical-align: top;\n",
       "    }\n",
       "\n",
       "    .dataframe thead th {\n",
       "        text-align: right;\n",
       "    }\n",
       "</style>\n",
       "<table border=\"1\" class=\"dataframe\">\n",
       "  <thead>\n",
       "    <tr style=\"text-align: right;\">\n",
       "      <th></th>\n",
       "      <th>Features</th>\n",
       "      <th>VIF</th>\n",
       "    </tr>\n",
       "  </thead>\n",
       "  <tbody>\n",
       "    <tr>\n",
       "      <th>2</th>\n",
       "      <td>workingday</td>\n",
       "      <td>86.81</td>\n",
       "    </tr>\n",
       "    <tr>\n",
       "      <th>19</th>\n",
       "      <td>weekday_mon</td>\n",
       "      <td>19.72</td>\n",
       "    </tr>\n",
       "    <tr>\n",
       "      <th>23</th>\n",
       "      <td>weekday_tue</td>\n",
       "      <td>18.35</td>\n",
       "    </tr>\n",
       "    <tr>\n",
       "      <th>25</th>\n",
       "      <td>season_spring</td>\n",
       "      <td>10.79</td>\n",
       "    </tr>\n",
       "    <tr>\n",
       "      <th>27</th>\n",
       "      <td>season_winter</td>\n",
       "      <td>9.50</td>\n",
       "    </tr>\n",
       "    <tr>\n",
       "      <th>26</th>\n",
       "      <td>season_summer</td>\n",
       "      <td>8.29</td>\n",
       "    </tr>\n",
       "    <tr>\n",
       "      <th>3</th>\n",
       "      <td>temp</td>\n",
       "      <td>7.12</td>\n",
       "    </tr>\n",
       "    <tr>\n",
       "      <th>16</th>\n",
       "      <td>mnth_nov</td>\n",
       "      <td>6.80</td>\n",
       "    </tr>\n",
       "    <tr>\n",
       "      <th>17</th>\n",
       "      <td>mnth_oct</td>\n",
       "      <td>6.59</td>\n",
       "    </tr>\n",
       "    <tr>\n",
       "      <th>8</th>\n",
       "      <td>mnth_aug</td>\n",
       "      <td>6.43</td>\n",
       "    </tr>\n",
       "    <tr>\n",
       "      <th>11</th>\n",
       "      <td>mnth_jan</td>\n",
       "      <td>5.90</td>\n",
       "    </tr>\n",
       "    <tr>\n",
       "      <th>9</th>\n",
       "      <td>mnth_dec</td>\n",
       "      <td>5.68</td>\n",
       "    </tr>\n",
       "    <tr>\n",
       "      <th>12</th>\n",
       "      <td>mnth_july</td>\n",
       "      <td>5.66</td>\n",
       "    </tr>\n",
       "    <tr>\n",
       "      <th>18</th>\n",
       "      <td>mnth_sep</td>\n",
       "      <td>4.94</td>\n",
       "    </tr>\n",
       "    <tr>\n",
       "      <th>1</th>\n",
       "      <td>holiday</td>\n",
       "      <td>4.59</td>\n",
       "    </tr>\n",
       "    <tr>\n",
       "      <th>10</th>\n",
       "      <td>mnth_feb</td>\n",
       "      <td>4.39</td>\n",
       "    </tr>\n",
       "    <tr>\n",
       "      <th>14</th>\n",
       "      <td>mnth_mar</td>\n",
       "      <td>3.47</td>\n",
       "    </tr>\n",
       "    <tr>\n",
       "      <th>13</th>\n",
       "      <td>mnth_june</td>\n",
       "      <td>2.83</td>\n",
       "    </tr>\n",
       "    <tr>\n",
       "      <th>15</th>\n",
       "      <td>mnth_may</td>\n",
       "      <td>2.22</td>\n",
       "    </tr>\n",
       "    <tr>\n",
       "      <th>4</th>\n",
       "      <td>hum</td>\n",
       "      <td>2.05</td>\n",
       "    </tr>\n",
       "    <tr>\n",
       "      <th>24</th>\n",
       "      <td>weekday_wed</td>\n",
       "      <td>1.78</td>\n",
       "    </tr>\n",
       "    <tr>\n",
       "      <th>20</th>\n",
       "      <td>weekday_sat</td>\n",
       "      <td>1.62</td>\n",
       "    </tr>\n",
       "    <tr>\n",
       "      <th>21</th>\n",
       "      <td>weekday_sun</td>\n",
       "      <td>1.61</td>\n",
       "    </tr>\n",
       "    <tr>\n",
       "      <th>22</th>\n",
       "      <td>weekday_thu</td>\n",
       "      <td>1.61</td>\n",
       "    </tr>\n",
       "    <tr>\n",
       "      <th>7</th>\n",
       "      <td>weathersit_mist</td>\n",
       "      <td>1.60</td>\n",
       "    </tr>\n",
       "    <tr>\n",
       "      <th>6</th>\n",
       "      <td>weathersit_light_snow</td>\n",
       "      <td>1.29</td>\n",
       "    </tr>\n",
       "    <tr>\n",
       "      <th>5</th>\n",
       "      <td>windspeed</td>\n",
       "      <td>1.24</td>\n",
       "    </tr>\n",
       "    <tr>\n",
       "      <th>0</th>\n",
       "      <td>yr</td>\n",
       "      <td>1.06</td>\n",
       "    </tr>\n",
       "  </tbody>\n",
       "</table>\n",
       "</div>"
      ],
      "text/plain": [
       "                 Features    VIF\n",
       "2              workingday  86.81\n",
       "19            weekday_mon  19.72\n",
       "23            weekday_tue  18.35\n",
       "25          season_spring  10.79\n",
       "27          season_winter   9.50\n",
       "26          season_summer   8.29\n",
       "3                    temp   7.12\n",
       "16               mnth_nov   6.80\n",
       "17               mnth_oct   6.59\n",
       "8                mnth_aug   6.43\n",
       "11               mnth_jan   5.90\n",
       "9                mnth_dec   5.68\n",
       "12              mnth_july   5.66\n",
       "18               mnth_sep   4.94\n",
       "1                 holiday   4.59\n",
       "10               mnth_feb   4.39\n",
       "14               mnth_mar   3.47\n",
       "13              mnth_june   2.83\n",
       "15               mnth_may   2.22\n",
       "4                     hum   2.05\n",
       "24            weekday_wed   1.78\n",
       "20            weekday_sat   1.62\n",
       "21            weekday_sun   1.61\n",
       "22            weekday_thu   1.61\n",
       "7         weathersit_mist   1.60\n",
       "6   weathersit_light_snow   1.29\n",
       "5               windspeed   1.24\n",
       "0                      yr   1.06"
      ]
     },
     "execution_count": 243,
     "metadata": {},
     "output_type": "execute_result"
    }
   ],
   "source": [
    "#Create a dataframe that will contain the names of all the feature variables and their respective VIFs\n",
    "#calculate VIF of variables\n",
    "\n",
    "def findVIF(X):\n",
    "    vif = pd.DataFrame()\n",
    "    vif['Features'] = X.columns\n",
    "    vif['VIF'] = [variance_inflation_factor(X.values, i) for i in range(X.shape[1])]\n",
    "    vif['VIF'] = round(vif['VIF'], 2)\n",
    "    vif = vif.sort_values(by = \"VIF\", ascending = False)\n",
    "    return vif\n",
    "\n",
    "findVIF(X_train)"
   ]
  },
  {
   "cell_type": "markdown",
   "id": "a2457ef4",
   "metadata": {},
   "source": [
    "We generally want a VIF that is less than 5. So there are clearly some variables we need to drop to reduce the multicollinearity. VIF< 5 is acceptable "
   ]
  },
  {
   "cell_type": "markdown",
   "id": "9d543397",
   "metadata": {},
   "source": [
    "#### We can drop few variables which have high p value. We will use RFE to select feature columns\n"
   ]
  },
  {
   "cell_type": "markdown",
   "id": "214b354d",
   "metadata": {},
   "source": [
    "### RFE based selecting feature columns"
   ]
  },
  {
   "cell_type": "code",
   "execution_count": 244,
   "id": "06f1d563",
   "metadata": {},
   "outputs": [],
   "source": [
    "# Importing RFE and LinearRegression\n",
    "from sklearn.feature_selection import RFE\n",
    "from sklearn.linear_model import LinearRegression"
   ]
  },
  {
   "cell_type": "code",
   "execution_count": 245,
   "id": "7276bc38",
   "metadata": {},
   "outputs": [],
   "source": [
    "# Running RFE with the output number of the variable equal to 15\n",
    "lm = LinearRegression()\n",
    "lm.fit(X_train, y_train)\n",
    "\n",
    "rfe = RFE(lm, 15)             # running RFE\n",
    "rfe = rfe.fit(X_train, y_train)"
   ]
  },
  {
   "cell_type": "code",
   "execution_count": 246,
   "id": "23e14dd9",
   "metadata": {},
   "outputs": [
    {
     "data": {
      "text/plain": [
       "[('yr', True, 1),\n",
       " ('holiday', True, 1),\n",
       " ('workingday', True, 1),\n",
       " ('temp', True, 1),\n",
       " ('hum', True, 1),\n",
       " ('windspeed', True, 1),\n",
       " ('weathersit_light_snow', True, 1),\n",
       " ('weathersit_mist', True, 1),\n",
       " ('mnth_aug', False, 6),\n",
       " ('mnth_dec', False, 3),\n",
       " ('mnth_feb', False, 4),\n",
       " ('mnth_jan', True, 1),\n",
       " ('mnth_july', True, 1),\n",
       " ('mnth_june', False, 13),\n",
       " ('mnth_mar', False, 14),\n",
       " ('mnth_may', False, 5),\n",
       " ('mnth_nov', False, 2),\n",
       " ('mnth_oct', False, 10),\n",
       " ('mnth_sep', True, 1),\n",
       " ('weekday_mon', True, 1),\n",
       " ('weekday_sat', False, 12),\n",
       " ('weekday_sun', False, 11),\n",
       " ('weekday_thu', False, 9),\n",
       " ('weekday_tue', False, 7),\n",
       " ('weekday_wed', False, 8),\n",
       " ('season_spring', True, 1),\n",
       " ('season_summer', True, 1),\n",
       " ('season_winter', True, 1)]"
      ]
     },
     "execution_count": 246,
     "metadata": {},
     "output_type": "execute_result"
    }
   ],
   "source": [
    "list(zip(X_train.columns,rfe.support_,rfe.ranking_))"
   ]
  },
  {
   "cell_type": "code",
   "execution_count": 247,
   "id": "0c3cdc5d",
   "metadata": {},
   "outputs": [
    {
     "data": {
      "text/plain": [
       "Index(['yr', 'holiday', 'workingday', 'temp', 'hum', 'windspeed',\n",
       "       'weathersit_light_snow', 'weathersit_mist', 'mnth_jan', 'mnth_july',\n",
       "       'mnth_sep', 'weekday_mon', 'season_spring', 'season_summer',\n",
       "       'season_winter'],\n",
       "      dtype='object')"
      ]
     },
     "execution_count": 247,
     "metadata": {},
     "output_type": "execute_result"
    }
   ],
   "source": [
    "col = X_train.columns[rfe.support_]\n",
    "col"
   ]
  },
  {
   "cell_type": "code",
   "execution_count": 248,
   "id": "a9bbaa8d",
   "metadata": {
    "scrolled": false
   },
   "outputs": [
    {
     "data": {
      "text/plain": [
       "Index(['mnth_aug', 'mnth_dec', 'mnth_feb', 'mnth_june', 'mnth_mar', 'mnth_may',\n",
       "       'mnth_nov', 'mnth_oct', 'weekday_sat', 'weekday_sun', 'weekday_thu',\n",
       "       'weekday_tue', 'weekday_wed'],\n",
       "      dtype='object')"
      ]
     },
     "execution_count": 248,
     "metadata": {},
     "output_type": "execute_result"
    }
   ],
   "source": [
    "X_train.columns[~rfe.support_]"
   ]
  },
  {
   "cell_type": "code",
   "execution_count": 249,
   "id": "3a349b9f",
   "metadata": {},
   "outputs": [],
   "source": [
    "# Creating X_train dataframe with RFE selected variables\n",
    "X_train_rfe = X_train[col]"
   ]
  },
  {
   "cell_type": "code",
   "execution_count": 250,
   "id": "c1455c3b",
   "metadata": {
    "scrolled": false
   },
   "outputs": [
    {
     "name": "stdout",
     "output_type": "stream",
     "text": [
      "const                    0.251042\n",
      "yr                       0.230502\n",
      "holiday                 -0.058529\n",
      "workingday               0.043521\n",
      "temp                     0.509836\n",
      "hum                     -0.154716\n",
      "windspeed               -0.185956\n",
      "weathersit_light_snow   -0.248777\n",
      "weathersit_mist         -0.057824\n",
      "mnth_jan                -0.034326\n",
      "mnth_july               -0.053193\n",
      "mnth_sep                 0.081186\n",
      "weekday_mon              0.053721\n",
      "season_spring           -0.050806\n",
      "season_summer            0.049660\n",
      "season_winter            0.094426\n",
      "dtype: float64\n",
      "                            OLS Regression Results                            \n",
      "==============================================================================\n",
      "Dep. Variable:                    cnt   R-squared:                       0.849\n",
      "Model:                            OLS   Adj. R-squared:                  0.844\n",
      "Method:                 Least Squares   F-statistic:                     184.6\n",
      "Date:                Wed, 16 Mar 2022   Prob (F-statistic):          2.31e-191\n",
      "Time:                        20:04:27   Log-Likelihood:                 519.88\n",
      "No. Observations:                 510   AIC:                            -1008.\n",
      "Df Residuals:                     494   BIC:                            -940.0\n",
      "Df Model:                          15                                         \n",
      "Covariance Type:            nonrobust                                         \n",
      "=========================================================================================\n",
      "                            coef    std err          t      P>|t|      [0.025      0.975]\n",
      "-----------------------------------------------------------------------------------------\n",
      "const                     0.2510      0.036      6.949      0.000       0.180       0.322\n",
      "yr                        0.2305      0.008     28.807      0.000       0.215       0.246\n",
      "holiday                  -0.0585      0.027     -2.178      0.030      -0.111      -0.006\n",
      "workingday                0.0435      0.012      3.781      0.000       0.021       0.066\n",
      "temp                      0.5098      0.034     14.851      0.000       0.442       0.577\n",
      "hum                      -0.1547      0.037     -4.145      0.000      -0.228      -0.081\n",
      "windspeed                -0.1860      0.025     -7.301      0.000      -0.236      -0.136\n",
      "weathersit_light_snow    -0.2488      0.026     -9.560      0.000      -0.300      -0.198\n",
      "weathersit_mist          -0.0578      0.010     -5.574      0.000      -0.078      -0.037\n",
      "mnth_jan                 -0.0343      0.017     -1.980      0.048      -0.068      -0.000\n",
      "mnth_july                -0.0532      0.018     -2.947      0.003      -0.089      -0.018\n",
      "mnth_sep                  0.0812      0.016      4.934      0.000       0.049       0.114\n",
      "weekday_mon               0.0537      0.014      3.707      0.000       0.025       0.082\n",
      "season_spring            -0.0508      0.021     -2.461      0.014      -0.091      -0.010\n",
      "season_summer             0.0497      0.015      3.346      0.001       0.020       0.079\n",
      "season_winter             0.0944      0.017      5.479      0.000       0.061       0.128\n",
      "==============================================================================\n",
      "Omnibus:                       66.344   Durbin-Watson:                   2.071\n",
      "Prob(Omnibus):                  0.000   Jarque-Bera (JB):              161.565\n",
      "Skew:                          -0.676   Prob(JB):                     8.25e-36\n",
      "Kurtosis:                       5.403   Cond. No.                         22.1\n",
      "==============================================================================\n",
      "\n",
      "Notes:\n",
      "[1] Standard Errors assume that the covariance matrix of the errors is correctly specified.\n"
     ]
    }
   ],
   "source": [
    "# Adding a constant variable \n",
    "import statsmodels.api as sm  \n",
    "X_train_rfe_new = sm.add_constant(X_train_rfe)\n",
    "lm = sm.OLS(y_train,X_train_rfe_new).fit()   # Running the linear model\n",
    "print(lm.params)\n",
    "print(lm.summary())"
   ]
  },
  {
   "cell_type": "markdown",
   "id": "38779a57",
   "metadata": {},
   "source": [
    "#### Observation\n",
    "- mnth_jan has high p value comparatively"
   ]
  },
  {
   "cell_type": "code",
   "execution_count": 251,
   "id": "c899d9ec",
   "metadata": {
    "scrolled": true
   },
   "outputs": [
    {
     "data": {
      "text/html": [
       "<div>\n",
       "<style scoped>\n",
       "    .dataframe tbody tr th:only-of-type {\n",
       "        vertical-align: middle;\n",
       "    }\n",
       "\n",
       "    .dataframe tbody tr th {\n",
       "        vertical-align: top;\n",
       "    }\n",
       "\n",
       "    .dataframe thead th {\n",
       "        text-align: right;\n",
       "    }\n",
       "</style>\n",
       "<table border=\"1\" class=\"dataframe\">\n",
       "  <thead>\n",
       "    <tr style=\"text-align: right;\">\n",
       "      <th></th>\n",
       "      <th>Features</th>\n",
       "      <th>VIF</th>\n",
       "    </tr>\n",
       "  </thead>\n",
       "  <tbody>\n",
       "    <tr>\n",
       "      <th>4</th>\n",
       "      <td>hum</td>\n",
       "      <td>29.40</td>\n",
       "    </tr>\n",
       "    <tr>\n",
       "      <th>3</th>\n",
       "      <td>temp</td>\n",
       "      <td>17.77</td>\n",
       "    </tr>\n",
       "    <tr>\n",
       "      <th>2</th>\n",
       "      <td>workingday</td>\n",
       "      <td>5.31</td>\n",
       "    </tr>\n",
       "    <tr>\n",
       "      <th>5</th>\n",
       "      <td>windspeed</td>\n",
       "      <td>4.73</td>\n",
       "    </tr>\n",
       "    <tr>\n",
       "      <th>12</th>\n",
       "      <td>season_spring</td>\n",
       "      <td>4.53</td>\n",
       "    </tr>\n",
       "    <tr>\n",
       "      <th>14</th>\n",
       "      <td>season_winter</td>\n",
       "      <td>3.48</td>\n",
       "    </tr>\n",
       "    <tr>\n",
       "      <th>13</th>\n",
       "      <td>season_summer</td>\n",
       "      <td>2.84</td>\n",
       "    </tr>\n",
       "    <tr>\n",
       "      <th>7</th>\n",
       "      <td>weathersit_mist</td>\n",
       "      <td>2.29</td>\n",
       "    </tr>\n",
       "    <tr>\n",
       "      <th>0</th>\n",
       "      <td>yr</td>\n",
       "      <td>2.09</td>\n",
       "    </tr>\n",
       "    <tr>\n",
       "      <th>11</th>\n",
       "      <td>weekday_mon</td>\n",
       "      <td>1.98</td>\n",
       "    </tr>\n",
       "    <tr>\n",
       "      <th>8</th>\n",
       "      <td>mnth_jan</td>\n",
       "      <td>1.67</td>\n",
       "    </tr>\n",
       "    <tr>\n",
       "      <th>9</th>\n",
       "      <td>mnth_july</td>\n",
       "      <td>1.59</td>\n",
       "    </tr>\n",
       "    <tr>\n",
       "      <th>10</th>\n",
       "      <td>mnth_sep</td>\n",
       "      <td>1.39</td>\n",
       "    </tr>\n",
       "    <tr>\n",
       "      <th>6</th>\n",
       "      <td>weathersit_light_snow</td>\n",
       "      <td>1.25</td>\n",
       "    </tr>\n",
       "    <tr>\n",
       "      <th>1</th>\n",
       "      <td>holiday</td>\n",
       "      <td>1.18</td>\n",
       "    </tr>\n",
       "  </tbody>\n",
       "</table>\n",
       "</div>"
      ],
      "text/plain": [
       "                 Features    VIF\n",
       "4                     hum  29.40\n",
       "3                    temp  17.77\n",
       "2              workingday   5.31\n",
       "5               windspeed   4.73\n",
       "12          season_spring   4.53\n",
       "14          season_winter   3.48\n",
       "13          season_summer   2.84\n",
       "7         weathersit_mist   2.29\n",
       "0                      yr   2.09\n",
       "11            weekday_mon   1.98\n",
       "8                mnth_jan   1.67\n",
       "9               mnth_july   1.59\n",
       "10               mnth_sep   1.39\n",
       "6   weathersit_light_snow   1.25\n",
       "1                 holiday   1.18"
      ]
     },
     "execution_count": 251,
     "metadata": {},
     "output_type": "execute_result"
    }
   ],
   "source": [
    "# Calculate the VIFs again for the new model\n",
    "\n",
    "findVIF(X_train_rfe)"
   ]
  },
  {
   "cell_type": "code",
   "execution_count": 252,
   "id": "1e593ba7",
   "metadata": {},
   "outputs": [],
   "source": [
    "## Dropping variable based on p value and VIF\n",
    "\n",
    "X_train_new = X_train_rfe.drop(['mnth_jan'],axis =1)"
   ]
  },
  {
   "cell_type": "code",
   "execution_count": 254,
   "id": "ab4f3de7",
   "metadata": {
    "scrolled": false
   },
   "outputs": [
    {
     "name": "stdout",
     "output_type": "stream",
     "text": [
      "const                    0.239379\n",
      "yr                       0.229738\n",
      "holiday                 -0.059434\n",
      "workingday               0.043216\n",
      "temp                     0.527819\n",
      "hum                     -0.159467\n",
      "windspeed               -0.180601\n",
      "weathersit_light_snow   -0.246332\n",
      "weathersit_mist         -0.057847\n",
      "mnth_july               -0.054881\n",
      "mnth_sep                 0.081773\n",
      "weekday_mon              0.053203\n",
      "season_spring           -0.055434\n",
      "season_summer            0.052613\n",
      "season_winter            0.100294\n",
      "dtype: float64\n",
      "                            OLS Regression Results                            \n",
      "==============================================================================\n",
      "Dep. Variable:                    cnt   R-squared:                       0.847\n",
      "Model:                            OLS   Adj. R-squared:                  0.843\n",
      "Method:                 Least Squares   F-statistic:                     196.3\n",
      "Date:                Wed, 16 Mar 2022   Prob (F-statistic):          1.13e-191\n",
      "Time:                        20:05:05   Log-Likelihood:                 517.87\n",
      "No. Observations:                 510   AIC:                            -1006.\n",
      "Df Residuals:                     495   BIC:                            -942.2\n",
      "Df Model:                          14                                         \n",
      "Covariance Type:            nonrobust                                         \n",
      "=========================================================================================\n",
      "                            coef    std err          t      P>|t|      [0.025      0.975]\n",
      "-----------------------------------------------------------------------------------------\n",
      "const                     0.2394      0.036      6.696      0.000       0.169       0.310\n",
      "yr                        0.2297      0.008     28.660      0.000       0.214       0.245\n",
      "holiday                  -0.0594      0.027     -2.206      0.028      -0.112      -0.006\n",
      "workingday                0.0432      0.012      3.744      0.000       0.021       0.066\n",
      "temp                      0.5278      0.033     15.897      0.000       0.463       0.593\n",
      "hum                      -0.1595      0.037     -4.268      0.000      -0.233      -0.086\n",
      "windspeed                -0.1806      0.025     -7.110      0.000      -0.231      -0.131\n",
      "weathersit_light_snow    -0.2463      0.026     -9.449      0.000      -0.298      -0.195\n",
      "weathersit_mist          -0.0578      0.010     -5.559      0.000      -0.078      -0.037\n",
      "mnth_july                -0.0549      0.018     -3.035      0.003      -0.090      -0.019\n",
      "mnth_sep                  0.0818      0.016      4.956      0.000       0.049       0.114\n",
      "weekday_mon               0.0532      0.015      3.661      0.000       0.025       0.082\n",
      "season_spring            -0.0554      0.021     -2.694      0.007      -0.096      -0.015\n",
      "season_summer             0.0526      0.015      3.553      0.000       0.024       0.082\n",
      "season_winter             0.1003      0.017      5.890      0.000       0.067       0.134\n",
      "==============================================================================\n",
      "Omnibus:                       64.879   Durbin-Watson:                   2.065\n",
      "Prob(Omnibus):                  0.000   Jarque-Bera (JB):              158.454\n",
      "Skew:                          -0.661   Prob(JB):                     3.91e-35\n",
      "Kurtosis:                       5.390   Cond. No.                         21.8\n",
      "==============================================================================\n",
      "\n",
      "Notes:\n",
      "[1] Standard Errors assume that the covariance matrix of the errors is correctly specified.\n"
     ]
    }
   ],
   "source": [
    "# Adding a constant variable \n",
    "import statsmodels.api as sm  \n",
    "X_train_rfe_new = sm.add_constant(X_train_new)\n",
    "lm_1 = sm.OLS(y_train,X_train_rfe_new).fit()   # Running the linear model\n",
    "print(lm_1.params)\n",
    "print(lm_1.summary())"
   ]
  },
  {
   "cell_type": "code",
   "execution_count": 255,
   "id": "abb317fc",
   "metadata": {
    "scrolled": false
   },
   "outputs": [
    {
     "data": {
      "text/html": [
       "<div>\n",
       "<style scoped>\n",
       "    .dataframe tbody tr th:only-of-type {\n",
       "        vertical-align: middle;\n",
       "    }\n",
       "\n",
       "    .dataframe tbody tr th {\n",
       "        vertical-align: top;\n",
       "    }\n",
       "\n",
       "    .dataframe thead th {\n",
       "        text-align: right;\n",
       "    }\n",
       "</style>\n",
       "<table border=\"1\" class=\"dataframe\">\n",
       "  <thead>\n",
       "    <tr style=\"text-align: right;\">\n",
       "      <th></th>\n",
       "      <th>Features</th>\n",
       "      <th>VIF</th>\n",
       "    </tr>\n",
       "  </thead>\n",
       "  <tbody>\n",
       "    <tr>\n",
       "      <th>4</th>\n",
       "      <td>hum</td>\n",
       "      <td>28.49</td>\n",
       "    </tr>\n",
       "    <tr>\n",
       "      <th>3</th>\n",
       "      <td>temp</td>\n",
       "      <td>16.97</td>\n",
       "    </tr>\n",
       "    <tr>\n",
       "      <th>2</th>\n",
       "      <td>workingday</td>\n",
       "      <td>5.28</td>\n",
       "    </tr>\n",
       "    <tr>\n",
       "      <th>5</th>\n",
       "      <td>windspeed</td>\n",
       "      <td>4.72</td>\n",
       "    </tr>\n",
       "    <tr>\n",
       "      <th>11</th>\n",
       "      <td>season_spring</td>\n",
       "      <td>4.24</td>\n",
       "    </tr>\n",
       "    <tr>\n",
       "      <th>13</th>\n",
       "      <td>season_winter</td>\n",
       "      <td>3.44</td>\n",
       "    </tr>\n",
       "    <tr>\n",
       "      <th>12</th>\n",
       "      <td>season_summer</td>\n",
       "      <td>2.83</td>\n",
       "    </tr>\n",
       "    <tr>\n",
       "      <th>7</th>\n",
       "      <td>weathersit_mist</td>\n",
       "      <td>2.28</td>\n",
       "    </tr>\n",
       "    <tr>\n",
       "      <th>0</th>\n",
       "      <td>yr</td>\n",
       "      <td>2.08</td>\n",
       "    </tr>\n",
       "    <tr>\n",
       "      <th>10</th>\n",
       "      <td>weekday_mon</td>\n",
       "      <td>1.97</td>\n",
       "    </tr>\n",
       "    <tr>\n",
       "      <th>8</th>\n",
       "      <td>mnth_july</td>\n",
       "      <td>1.58</td>\n",
       "    </tr>\n",
       "    <tr>\n",
       "      <th>9</th>\n",
       "      <td>mnth_sep</td>\n",
       "      <td>1.39</td>\n",
       "    </tr>\n",
       "    <tr>\n",
       "      <th>6</th>\n",
       "      <td>weathersit_light_snow</td>\n",
       "      <td>1.24</td>\n",
       "    </tr>\n",
       "    <tr>\n",
       "      <th>1</th>\n",
       "      <td>holiday</td>\n",
       "      <td>1.17</td>\n",
       "    </tr>\n",
       "  </tbody>\n",
       "</table>\n",
       "</div>"
      ],
      "text/plain": [
       "                 Features    VIF\n",
       "4                     hum  28.49\n",
       "3                    temp  16.97\n",
       "2              workingday   5.28\n",
       "5               windspeed   4.72\n",
       "11          season_spring   4.24\n",
       "13          season_winter   3.44\n",
       "12          season_summer   2.83\n",
       "7         weathersit_mist   2.28\n",
       "0                      yr   2.08\n",
       "10            weekday_mon   1.97\n",
       "8               mnth_july   1.58\n",
       "9                mnth_sep   1.39\n",
       "6   weathersit_light_snow   1.24\n",
       "1                 holiday   1.17"
      ]
     },
     "execution_count": 255,
     "metadata": {},
     "output_type": "execute_result"
    }
   ],
   "source": [
    "findVIF(X_train_new)"
   ]
  },
  {
   "cell_type": "markdown",
   "id": "4a5e9d56",
   "metadata": {},
   "source": [
    "#### Removing few variables manually for eliminating multicollinearity in the feature variables simultaneously checking on the model accuracy. Removing few feature variables, model accuracy is affected so removing carefully"
   ]
  },
  {
   "cell_type": "code",
   "execution_count": 256,
   "id": "1684bc08",
   "metadata": {},
   "outputs": [],
   "source": [
    "X_train_new_1 = X_train_new.drop(['hum'], axis =1)\n"
   ]
  },
  {
   "cell_type": "code",
   "execution_count": 257,
   "id": "01bf5479",
   "metadata": {
    "scrolled": true
   },
   "outputs": [
    {
     "name": "stdout",
     "output_type": "stream",
     "text": [
      "const                    0.157668\n",
      "yr                       0.233626\n",
      "holiday                 -0.057148\n",
      "workingday               0.046259\n",
      "temp                     0.492017\n",
      "windspeed               -0.149124\n",
      "weathersit_light_snow   -0.290444\n",
      "weathersit_mist         -0.083515\n",
      "mnth_july               -0.049971\n",
      "mnth_sep                 0.075781\n",
      "weekday_mon              0.058008\n",
      "season_spring           -0.065288\n",
      "season_summer            0.046496\n",
      "season_winter            0.085870\n",
      "dtype: float64\n",
      "                            OLS Regression Results                            \n",
      "==============================================================================\n",
      "Dep. Variable:                    cnt   R-squared:                       0.842\n",
      "Model:                            OLS   Adj. R-squared:                  0.838\n",
      "Method:                 Least Squares   F-statistic:                     203.0\n",
      "Date:                Wed, 16 Mar 2022   Prob (F-statistic):          5.73e-189\n",
      "Time:                        20:05:23   Log-Likelihood:                 508.65\n",
      "No. Observations:                 510   AIC:                            -989.3\n",
      "Df Residuals:                     496   BIC:                            -930.0\n",
      "Df Model:                          13                                         \n",
      "Covariance Type:            nonrobust                                         \n",
      "=========================================================================================\n",
      "                            coef    std err          t      P>|t|      [0.025      0.975]\n",
      "-----------------------------------------------------------------------------------------\n",
      "const                     0.1577      0.031      5.134      0.000       0.097       0.218\n",
      "yr                        0.2336      0.008     28.839      0.000       0.218       0.250\n",
      "holiday                  -0.0571      0.027     -2.085      0.038      -0.111      -0.003\n",
      "workingday                0.0463      0.012      3.947      0.000       0.023       0.069\n",
      "temp                      0.4920      0.033     15.056      0.000       0.428       0.556\n",
      "windspeed                -0.1491      0.025     -6.032      0.000      -0.198      -0.101\n",
      "weathersit_light_snow    -0.2904      0.024    -11.931      0.000      -0.338      -0.243\n",
      "weathersit_mist          -0.0835      0.009     -9.669      0.000      -0.100      -0.067\n",
      "mnth_july                -0.0500      0.018     -2.723      0.007      -0.086      -0.014\n",
      "mnth_sep                  0.0758      0.017      4.532      0.000       0.043       0.109\n",
      "weekday_mon               0.0580      0.015      3.936      0.000       0.029       0.087\n",
      "season_spring            -0.0653      0.021     -3.139      0.002      -0.106      -0.024\n",
      "season_summer             0.0465      0.015      3.101      0.002       0.017       0.076\n",
      "season_winter             0.0859      0.017      5.058      0.000       0.053       0.119\n",
      "==============================================================================\n",
      "Omnibus:                       66.977   Durbin-Watson:                   2.059\n",
      "Prob(Omnibus):                  0.000   Jarque-Bera (JB):              163.728\n",
      "Skew:                          -0.681   Prob(JB):                     2.80e-36\n",
      "Kurtosis:                       5.419   Cond. No.                         19.5\n",
      "==============================================================================\n",
      "\n",
      "Notes:\n",
      "[1] Standard Errors assume that the covariance matrix of the errors is correctly specified.\n"
     ]
    }
   ],
   "source": [
    "import statsmodels.api as sm  \n",
    "X_train_rfe_new = sm.add_constant(X_train_new_1)\n",
    "lm_2 = sm.OLS(y_train,X_train_rfe_new).fit()   # Running the linear model\n",
    "print(lm_2.params)\n",
    "print(lm_2.summary())"
   ]
  },
  {
   "cell_type": "code",
   "execution_count": 259,
   "id": "8018ed60",
   "metadata": {},
   "outputs": [
    {
     "data": {
      "text/html": [
       "<div>\n",
       "<style scoped>\n",
       "    .dataframe tbody tr th:only-of-type {\n",
       "        vertical-align: middle;\n",
       "    }\n",
       "\n",
       "    .dataframe tbody tr th {\n",
       "        vertical-align: top;\n",
       "    }\n",
       "\n",
       "    .dataframe thead th {\n",
       "        text-align: right;\n",
       "    }\n",
       "</style>\n",
       "<table border=\"1\" class=\"dataframe\">\n",
       "  <thead>\n",
       "    <tr style=\"text-align: right;\">\n",
       "      <th></th>\n",
       "      <th>Features</th>\n",
       "      <th>VIF</th>\n",
       "    </tr>\n",
       "  </thead>\n",
       "  <tbody>\n",
       "    <tr>\n",
       "      <th>3</th>\n",
       "      <td>temp</td>\n",
       "      <td>6.97</td>\n",
       "    </tr>\n",
       "    <tr>\n",
       "      <th>2</th>\n",
       "      <td>workingday</td>\n",
       "      <td>5.20</td>\n",
       "    </tr>\n",
       "    <tr>\n",
       "      <th>4</th>\n",
       "      <td>windspeed</td>\n",
       "      <td>4.65</td>\n",
       "    </tr>\n",
       "    <tr>\n",
       "      <th>10</th>\n",
       "      <td>season_spring</td>\n",
       "      <td>2.49</td>\n",
       "    </tr>\n",
       "    <tr>\n",
       "      <th>11</th>\n",
       "      <td>season_summer</td>\n",
       "      <td>2.32</td>\n",
       "    </tr>\n",
       "    <tr>\n",
       "      <th>0</th>\n",
       "      <td>yr</td>\n",
       "      <td>2.07</td>\n",
       "    </tr>\n",
       "    <tr>\n",
       "      <th>12</th>\n",
       "      <td>season_winter</td>\n",
       "      <td>1.99</td>\n",
       "    </tr>\n",
       "    <tr>\n",
       "      <th>9</th>\n",
       "      <td>weekday_mon</td>\n",
       "      <td>1.96</td>\n",
       "    </tr>\n",
       "    <tr>\n",
       "      <th>7</th>\n",
       "      <td>mnth_july</td>\n",
       "      <td>1.58</td>\n",
       "    </tr>\n",
       "    <tr>\n",
       "      <th>6</th>\n",
       "      <td>weathersit_mist</td>\n",
       "      <td>1.56</td>\n",
       "    </tr>\n",
       "    <tr>\n",
       "      <th>8</th>\n",
       "      <td>mnth_sep</td>\n",
       "      <td>1.35</td>\n",
       "    </tr>\n",
       "    <tr>\n",
       "      <th>1</th>\n",
       "      <td>holiday</td>\n",
       "      <td>1.17</td>\n",
       "    </tr>\n",
       "    <tr>\n",
       "      <th>5</th>\n",
       "      <td>weathersit_light_snow</td>\n",
       "      <td>1.08</td>\n",
       "    </tr>\n",
       "  </tbody>\n",
       "</table>\n",
       "</div>"
      ],
      "text/plain": [
       "                 Features   VIF\n",
       "3                    temp  6.97\n",
       "2              workingday  5.20\n",
       "4               windspeed  4.65\n",
       "10          season_spring  2.49\n",
       "11          season_summer  2.32\n",
       "0                      yr  2.07\n",
       "12          season_winter  1.99\n",
       "9             weekday_mon  1.96\n",
       "7               mnth_july  1.58\n",
       "6         weathersit_mist  1.56\n",
       "8                mnth_sep  1.35\n",
       "1                 holiday  1.17\n",
       "5   weathersit_light_snow  1.08"
      ]
     },
     "execution_count": 259,
     "metadata": {},
     "output_type": "execute_result"
    }
   ],
   "source": [
    "# Calculate the VIFs again for the new model\n",
    "\n",
    "findVIF(X_train_new_1)"
   ]
  },
  {
   "cell_type": "code",
   "execution_count": 260,
   "id": "0cd11bcb",
   "metadata": {},
   "outputs": [],
   "source": [
    "# Dropping holiday as per p value before dropping w.r.t VIF to see if VIF decreases \n",
    "X_train_new_2 = X_train_new_1.drop(['holiday'], axis =1)\n"
   ]
  },
  {
   "cell_type": "code",
   "execution_count": 261,
   "id": "56f491da",
   "metadata": {
    "scrolled": false
   },
   "outputs": [
    {
     "name": "stdout",
     "output_type": "stream",
     "text": [
      "const                    0.149280\n",
      "yr                       0.233807\n",
      "workingday               0.054735\n",
      "temp                     0.492470\n",
      "windspeed               -0.149998\n",
      "weathersit_light_snow   -0.289240\n",
      "weathersit_mist         -0.082998\n",
      "mnth_july               -0.048914\n",
      "mnth_sep                 0.073841\n",
      "weekday_mon              0.066577\n",
      "season_spring           -0.066220\n",
      "season_summer            0.046893\n",
      "season_winter            0.085092\n",
      "dtype: float64\n",
      "                            OLS Regression Results                            \n",
      "==============================================================================\n",
      "Dep. Variable:                    cnt   R-squared:                       0.840\n",
      "Model:                            OLS   Adj. R-squared:                  0.837\n",
      "Method:                 Least Squares   F-statistic:                     218.1\n",
      "Date:                Wed, 16 Mar 2022   Prob (F-statistic):          3.28e-189\n",
      "Time:                        20:06:12   Log-Likelihood:                 506.42\n",
      "No. Observations:                 510   AIC:                            -986.8\n",
      "Df Residuals:                     497   BIC:                            -931.8\n",
      "Df Model:                          12                                         \n",
      "Covariance Type:            nonrobust                                         \n",
      "=========================================================================================\n",
      "                            coef    std err          t      P>|t|      [0.025      0.975]\n",
      "-----------------------------------------------------------------------------------------\n",
      "const                     0.1493      0.031      4.886      0.000       0.089       0.209\n",
      "yr                        0.2338      0.008     28.766      0.000       0.218       0.250\n",
      "workingday                0.0547      0.011      4.962      0.000       0.033       0.076\n",
      "temp                      0.4925      0.033     15.020      0.000       0.428       0.557\n",
      "windspeed                -0.1500      0.025     -6.047      0.000      -0.199      -0.101\n",
      "weathersit_light_snow    -0.2892      0.024    -11.845      0.000      -0.337      -0.241\n",
      "weathersit_mist          -0.0830      0.009     -9.581      0.000      -0.100      -0.066\n",
      "mnth_july                -0.0489      0.018     -2.657      0.008      -0.085      -0.013\n",
      "mnth_sep                  0.0738      0.017      4.408      0.000       0.041       0.107\n",
      "weekday_mon               0.0666      0.014      4.688      0.000       0.039       0.094\n",
      "season_spring            -0.0662      0.021     -3.174      0.002      -0.107      -0.025\n",
      "season_summer             0.0469      0.015      3.117      0.002       0.017       0.076\n",
      "season_winter             0.0851      0.017      4.997      0.000       0.052       0.119\n",
      "==============================================================================\n",
      "Omnibus:                       72.688   Durbin-Watson:                   2.041\n",
      "Prob(Omnibus):                  0.000   Jarque-Bera (JB):              185.799\n",
      "Skew:                          -0.721   Prob(JB):                     4.51e-41\n",
      "Kurtosis:                       5.581   Cond. No.                         19.5\n",
      "==============================================================================\n",
      "\n",
      "Notes:\n",
      "[1] Standard Errors assume that the covariance matrix of the errors is correctly specified.\n"
     ]
    }
   ],
   "source": [
    "import statsmodels.api as sm  \n",
    "X_train_rfe_new_1 = sm.add_constant(X_train_new_2)\n",
    "lm_3 = sm.OLS(y_train,X_train_rfe_new_1).fit()   # Running the linear model\n",
    "print(lm_3.params)\n",
    "print(lm_3.summary())"
   ]
  },
  {
   "cell_type": "code",
   "execution_count": 262,
   "id": "2f273ce0",
   "metadata": {
    "scrolled": true
   },
   "outputs": [
    {
     "data": {
      "text/html": [
       "<div>\n",
       "<style scoped>\n",
       "    .dataframe tbody tr th:only-of-type {\n",
       "        vertical-align: middle;\n",
       "    }\n",
       "\n",
       "    .dataframe tbody tr th {\n",
       "        vertical-align: top;\n",
       "    }\n",
       "\n",
       "    .dataframe thead th {\n",
       "        text-align: right;\n",
       "    }\n",
       "</style>\n",
       "<table border=\"1\" class=\"dataframe\">\n",
       "  <thead>\n",
       "    <tr style=\"text-align: right;\">\n",
       "      <th></th>\n",
       "      <th>Features</th>\n",
       "      <th>VIF</th>\n",
       "    </tr>\n",
       "  </thead>\n",
       "  <tbody>\n",
       "    <tr>\n",
       "      <th>2</th>\n",
       "      <td>temp</td>\n",
       "      <td>6.73</td>\n",
       "    </tr>\n",
       "    <tr>\n",
       "      <th>1</th>\n",
       "      <td>workingday</td>\n",
       "      <td>4.65</td>\n",
       "    </tr>\n",
       "    <tr>\n",
       "      <th>3</th>\n",
       "      <td>windspeed</td>\n",
       "      <td>4.64</td>\n",
       "    </tr>\n",
       "    <tr>\n",
       "      <th>9</th>\n",
       "      <td>season_spring</td>\n",
       "      <td>2.38</td>\n",
       "    </tr>\n",
       "    <tr>\n",
       "      <th>10</th>\n",
       "      <td>season_summer</td>\n",
       "      <td>2.31</td>\n",
       "    </tr>\n",
       "    <tr>\n",
       "      <th>0</th>\n",
       "      <td>yr</td>\n",
       "      <td>2.07</td>\n",
       "    </tr>\n",
       "    <tr>\n",
       "      <th>11</th>\n",
       "      <td>season_winter</td>\n",
       "      <td>1.92</td>\n",
       "    </tr>\n",
       "    <tr>\n",
       "      <th>8</th>\n",
       "      <td>weekday_mon</td>\n",
       "      <td>1.83</td>\n",
       "    </tr>\n",
       "    <tr>\n",
       "      <th>6</th>\n",
       "      <td>mnth_july</td>\n",
       "      <td>1.58</td>\n",
       "    </tr>\n",
       "    <tr>\n",
       "      <th>5</th>\n",
       "      <td>weathersit_mist</td>\n",
       "      <td>1.56</td>\n",
       "    </tr>\n",
       "    <tr>\n",
       "      <th>7</th>\n",
       "      <td>mnth_sep</td>\n",
       "      <td>1.34</td>\n",
       "    </tr>\n",
       "    <tr>\n",
       "      <th>4</th>\n",
       "      <td>weathersit_light_snow</td>\n",
       "      <td>1.08</td>\n",
       "    </tr>\n",
       "  </tbody>\n",
       "</table>\n",
       "</div>"
      ],
      "text/plain": [
       "                 Features   VIF\n",
       "2                    temp  6.73\n",
       "1              workingday  4.65\n",
       "3               windspeed  4.64\n",
       "9           season_spring  2.38\n",
       "10          season_summer  2.31\n",
       "0                      yr  2.07\n",
       "11          season_winter  1.92\n",
       "8             weekday_mon  1.83\n",
       "6               mnth_july  1.58\n",
       "5         weathersit_mist  1.56\n",
       "7                mnth_sep  1.34\n",
       "4   weathersit_light_snow  1.08"
      ]
     },
     "execution_count": 262,
     "metadata": {},
     "output_type": "execute_result"
    }
   ],
   "source": [
    "# Calculate the VIFs again for the new model\n",
    "\n",
    "findVIF(X_train_new_2)"
   ]
  },
  {
   "cell_type": "code",
   "execution_count": 263,
   "id": "b80c0e8f",
   "metadata": {},
   "outputs": [],
   "source": [
    "# Dropping variable as per p value before dropping w.r.t VIF to see if VIF decreases \n",
    "X_train_new_3 = X_train_new_2.drop(['mnth_july'], axis =1)\n"
   ]
  },
  {
   "cell_type": "code",
   "execution_count": 264,
   "id": "5f95b8f0",
   "metadata": {
    "scrolled": false
   },
   "outputs": [
    {
     "name": "stdout",
     "output_type": "stream",
     "text": [
      "const                    0.140538\n",
      "yr                       0.234322\n",
      "workingday               0.055691\n",
      "temp                     0.479972\n",
      "windspeed               -0.150066\n",
      "weathersit_light_snow   -0.290193\n",
      "weathersit_mist         -0.081726\n",
      "mnth_sep                 0.087175\n",
      "weekday_mon              0.066892\n",
      "season_spring           -0.055103\n",
      "season_summer            0.061539\n",
      "season_winter            0.097174\n",
      "dtype: float64\n",
      "                            OLS Regression Results                            \n",
      "==============================================================================\n",
      "Dep. Variable:                    cnt   R-squared:                       0.838\n",
      "Model:                            OLS   Adj. R-squared:                  0.835\n",
      "Method:                 Least Squares   F-statistic:                     234.4\n",
      "Date:                Wed, 16 Mar 2022   Prob (F-statistic):          6.86e-189\n",
      "Time:                        20:07:05   Log-Likelihood:                 502.83\n",
      "No. Observations:                 510   AIC:                            -981.7\n",
      "Df Residuals:                     498   BIC:                            -930.8\n",
      "Df Model:                          11                                         \n",
      "Covariance Type:            nonrobust                                         \n",
      "=========================================================================================\n",
      "                            coef    std err          t      P>|t|      [0.025      0.975]\n",
      "-----------------------------------------------------------------------------------------\n",
      "const                     0.1405      0.031      4.599      0.000       0.081       0.201\n",
      "yr                        0.2343      0.008     28.664      0.000       0.218       0.250\n",
      "workingday                0.0557      0.011      5.021      0.000       0.034       0.077\n",
      "temp                      0.4800      0.033     14.702      0.000       0.416       0.544\n",
      "windspeed                -0.1501      0.025     -6.014      0.000      -0.199      -0.101\n",
      "weathersit_light_snow    -0.2902      0.025    -11.813      0.000      -0.338      -0.242\n",
      "weathersit_mist          -0.0817      0.009     -9.391      0.000      -0.099      -0.065\n",
      "mnth_sep                  0.0872      0.016      5.421      0.000       0.056       0.119\n",
      "weekday_mon               0.0669      0.014      4.682      0.000       0.039       0.095\n",
      "season_spring            -0.0551      0.021     -2.680      0.008      -0.096      -0.015\n",
      "season_summer             0.0615      0.014      4.370      0.000       0.034       0.089\n",
      "season_winter             0.0972      0.017      5.885      0.000       0.065       0.130\n",
      "==============================================================================\n",
      "Omnibus:                       76.386   Durbin-Watson:                   2.073\n",
      "Prob(Omnibus):                  0.000   Jarque-Bera (JB):              190.041\n",
      "Skew:                          -0.765   Prob(JB):                     5.41e-42\n",
      "Kurtosis:                       5.569   Cond. No.                         19.4\n",
      "==============================================================================\n",
      "\n",
      "Notes:\n",
      "[1] Standard Errors assume that the covariance matrix of the errors is correctly specified.\n"
     ]
    }
   ],
   "source": [
    "import statsmodels.api as sm  \n",
    "X_train_rfe_new_2 = sm.add_constant(X_train_new_3)\n",
    "lm_4 = sm.OLS(y_train,X_train_rfe_new_2).fit()   # Running the linear model\n",
    "print(lm_4.params)\n",
    "print(lm_4.summary())"
   ]
  },
  {
   "cell_type": "code",
   "execution_count": 265,
   "id": "9a6aa467",
   "metadata": {
    "scrolled": true
   },
   "outputs": [
    {
     "data": {
      "text/html": [
       "<div>\n",
       "<style scoped>\n",
       "    .dataframe tbody tr th:only-of-type {\n",
       "        vertical-align: middle;\n",
       "    }\n",
       "\n",
       "    .dataframe tbody tr th {\n",
       "        vertical-align: top;\n",
       "    }\n",
       "\n",
       "    .dataframe thead th {\n",
       "        text-align: right;\n",
       "    }\n",
       "</style>\n",
       "<table border=\"1\" class=\"dataframe\">\n",
       "  <thead>\n",
       "    <tr style=\"text-align: right;\">\n",
       "      <th></th>\n",
       "      <th>Features</th>\n",
       "      <th>VIF</th>\n",
       "    </tr>\n",
       "  </thead>\n",
       "  <tbody>\n",
       "    <tr>\n",
       "      <th>2</th>\n",
       "      <td>temp</td>\n",
       "      <td>5.48</td>\n",
       "    </tr>\n",
       "    <tr>\n",
       "      <th>1</th>\n",
       "      <td>workingday</td>\n",
       "      <td>4.65</td>\n",
       "    </tr>\n",
       "    <tr>\n",
       "      <th>3</th>\n",
       "      <td>windspeed</td>\n",
       "      <td>4.63</td>\n",
       "    </tr>\n",
       "    <tr>\n",
       "      <th>8</th>\n",
       "      <td>season_spring</td>\n",
       "      <td>2.30</td>\n",
       "    </tr>\n",
       "    <tr>\n",
       "      <th>0</th>\n",
       "      <td>yr</td>\n",
       "      <td>2.07</td>\n",
       "    </tr>\n",
       "    <tr>\n",
       "      <th>9</th>\n",
       "      <td>season_summer</td>\n",
       "      <td>1.99</td>\n",
       "    </tr>\n",
       "    <tr>\n",
       "      <th>7</th>\n",
       "      <td>weekday_mon</td>\n",
       "      <td>1.83</td>\n",
       "    </tr>\n",
       "    <tr>\n",
       "      <th>10</th>\n",
       "      <td>season_winter</td>\n",
       "      <td>1.77</td>\n",
       "    </tr>\n",
       "    <tr>\n",
       "      <th>5</th>\n",
       "      <td>weathersit_mist</td>\n",
       "      <td>1.56</td>\n",
       "    </tr>\n",
       "    <tr>\n",
       "      <th>6</th>\n",
       "      <td>mnth_sep</td>\n",
       "      <td>1.23</td>\n",
       "    </tr>\n",
       "    <tr>\n",
       "      <th>4</th>\n",
       "      <td>weathersit_light_snow</td>\n",
       "      <td>1.08</td>\n",
       "    </tr>\n",
       "  </tbody>\n",
       "</table>\n",
       "</div>"
      ],
      "text/plain": [
       "                 Features   VIF\n",
       "2                    temp  5.48\n",
       "1              workingday  4.65\n",
       "3               windspeed  4.63\n",
       "8           season_spring  2.30\n",
       "0                      yr  2.07\n",
       "9           season_summer  1.99\n",
       "7             weekday_mon  1.83\n",
       "10          season_winter  1.77\n",
       "5         weathersit_mist  1.56\n",
       "6                mnth_sep  1.23\n",
       "4   weathersit_light_snow  1.08"
      ]
     },
     "execution_count": 265,
     "metadata": {},
     "output_type": "execute_result"
    }
   ],
   "source": [
    "# Calculate the VIFs again for the new model\n",
    "\n",
    "findVIF(X_train_new_3)"
   ]
  },
  {
   "cell_type": "code",
   "execution_count": 266,
   "id": "4a618aa5",
   "metadata": {},
   "outputs": [],
   "source": [
    "# Dropping variable as per p value before dropping w.r.t VIF to see if VIF decreases \n",
    "X_train_new_4 = X_train_new_3.drop(['season_spring'], axis =1)\n"
   ]
  },
  {
   "cell_type": "code",
   "execution_count": 267,
   "id": "cbaada6b",
   "metadata": {
    "scrolled": true
   },
   "outputs": [
    {
     "name": "stdout",
     "output_type": "stream",
     "text": [
      "const                    0.075325\n",
      "yr                       0.233056\n",
      "workingday               0.056323\n",
      "temp                     0.549936\n",
      "windspeed               -0.155238\n",
      "weathersit_light_snow   -0.288021\n",
      "weathersit_mist         -0.081347\n",
      "mnth_sep                 0.097236\n",
      "weekday_mon              0.067688\n",
      "season_summer            0.087429\n",
      "season_winter            0.131826\n",
      "dtype: float64\n",
      "                            OLS Regression Results                            \n",
      "==============================================================================\n",
      "Dep. Variable:                    cnt   R-squared:                       0.836\n",
      "Model:                            OLS   Adj. R-squared:                  0.832\n",
      "Method:                 Least Squares   F-statistic:                     254.0\n",
      "Date:                Wed, 16 Mar 2022   Prob (F-statistic):          1.47e-188\n",
      "Time:                        20:08:02   Log-Likelihood:                 499.18\n",
      "No. Observations:                 510   AIC:                            -976.4\n",
      "Df Residuals:                     499   BIC:                            -929.8\n",
      "Df Model:                          10                                         \n",
      "Covariance Type:            nonrobust                                         \n",
      "=========================================================================================\n",
      "                            coef    std err          t      P>|t|      [0.025      0.975]\n",
      "-----------------------------------------------------------------------------------------\n",
      "const                     0.0753      0.019      4.051      0.000       0.039       0.112\n",
      "yr                        0.2331      0.008     28.382      0.000       0.217       0.249\n",
      "workingday                0.0563      0.011      5.048      0.000       0.034       0.078\n",
      "temp                      0.5499      0.020     27.885      0.000       0.511       0.589\n",
      "windspeed                -0.1552      0.025     -6.201      0.000      -0.204      -0.106\n",
      "weathersit_light_snow    -0.2880      0.025    -11.659      0.000      -0.337      -0.239\n",
      "weathersit_mist          -0.0813      0.009     -9.292      0.000      -0.099      -0.064\n",
      "mnth_sep                  0.0972      0.016      6.181      0.000       0.066       0.128\n",
      "weekday_mon               0.0677      0.014      4.710      0.000       0.039       0.096\n",
      "season_summer             0.0874      0.010      8.481      0.000       0.067       0.108\n",
      "season_winter             0.1318      0.010     12.760      0.000       0.112       0.152\n",
      "==============================================================================\n",
      "Omnibus:                       68.959   Durbin-Watson:                   2.080\n",
      "Prob(Omnibus):                  0.000   Jarque-Bera (JB):              153.793\n",
      "Skew:                          -0.731   Prob(JB):                     4.02e-34\n",
      "Kurtosis:                       5.258   Cond. No.                         11.6\n",
      "==============================================================================\n",
      "\n",
      "Notes:\n",
      "[1] Standard Errors assume that the covariance matrix of the errors is correctly specified.\n"
     ]
    }
   ],
   "source": [
    "import statsmodels.api as sm  \n",
    "X_train_rfe_new_3 = sm.add_constant(X_train_new_4)\n",
    "lm_5 = sm.OLS(y_train,X_train_rfe_new_3).fit()   # Running the linear model\n",
    "print(lm_5.params)\n",
    "print(lm_5.summary())"
   ]
  },
  {
   "cell_type": "code",
   "execution_count": 268,
   "id": "6acbd87d",
   "metadata": {
    "scrolled": true
   },
   "outputs": [
    {
     "data": {
      "text/html": [
       "<div>\n",
       "<style scoped>\n",
       "    .dataframe tbody tr th:only-of-type {\n",
       "        vertical-align: middle;\n",
       "    }\n",
       "\n",
       "    .dataframe tbody tr th {\n",
       "        vertical-align: top;\n",
       "    }\n",
       "\n",
       "    .dataframe thead th {\n",
       "        text-align: right;\n",
       "    }\n",
       "</style>\n",
       "<table border=\"1\" class=\"dataframe\">\n",
       "  <thead>\n",
       "    <tr style=\"text-align: right;\">\n",
       "      <th></th>\n",
       "      <th>Features</th>\n",
       "      <th>VIF</th>\n",
       "    </tr>\n",
       "  </thead>\n",
       "  <tbody>\n",
       "    <tr>\n",
       "      <th>2</th>\n",
       "      <td>temp</td>\n",
       "      <td>4.76</td>\n",
       "    </tr>\n",
       "    <tr>\n",
       "      <th>1</th>\n",
       "      <td>workingday</td>\n",
       "      <td>4.04</td>\n",
       "    </tr>\n",
       "    <tr>\n",
       "      <th>3</th>\n",
       "      <td>windspeed</td>\n",
       "      <td>3.43</td>\n",
       "    </tr>\n",
       "    <tr>\n",
       "      <th>0</th>\n",
       "      <td>yr</td>\n",
       "      <td>2.02</td>\n",
       "    </tr>\n",
       "    <tr>\n",
       "      <th>7</th>\n",
       "      <td>weekday_mon</td>\n",
       "      <td>1.69</td>\n",
       "    </tr>\n",
       "    <tr>\n",
       "      <th>8</th>\n",
       "      <td>season_summer</td>\n",
       "      <td>1.57</td>\n",
       "    </tr>\n",
       "    <tr>\n",
       "      <th>5</th>\n",
       "      <td>weathersit_mist</td>\n",
       "      <td>1.53</td>\n",
       "    </tr>\n",
       "    <tr>\n",
       "      <th>9</th>\n",
       "      <td>season_winter</td>\n",
       "      <td>1.40</td>\n",
       "    </tr>\n",
       "    <tr>\n",
       "      <th>6</th>\n",
       "      <td>mnth_sep</td>\n",
       "      <td>1.20</td>\n",
       "    </tr>\n",
       "    <tr>\n",
       "      <th>4</th>\n",
       "      <td>weathersit_light_snow</td>\n",
       "      <td>1.08</td>\n",
       "    </tr>\n",
       "  </tbody>\n",
       "</table>\n",
       "</div>"
      ],
      "text/plain": [
       "                Features   VIF\n",
       "2                   temp  4.76\n",
       "1             workingday  4.04\n",
       "3              windspeed  3.43\n",
       "0                     yr  2.02\n",
       "7            weekday_mon  1.69\n",
       "8          season_summer  1.57\n",
       "5        weathersit_mist  1.53\n",
       "9          season_winter  1.40\n",
       "6               mnth_sep  1.20\n",
       "4  weathersit_light_snow  1.08"
      ]
     },
     "execution_count": 268,
     "metadata": {},
     "output_type": "execute_result"
    }
   ],
   "source": [
    "# Calculate the VIFs again for the new model\n",
    "\n",
    "findVIF(X_train_new_4)"
   ]
  },
  {
   "cell_type": "markdown",
   "id": "f776cc8f",
   "metadata": {},
   "source": [
    "#### Observation\n",
    "- Though VIF and p values are satisfying the requirement. error terms were not having mean =0. so dropping few insignificant feature variables"
   ]
  },
  {
   "cell_type": "code",
   "execution_count": 272,
   "id": "29f27668",
   "metadata": {},
   "outputs": [],
   "source": [
    "# Dropping variable as per p value before dropping w.r.t VIF to see if VIF decreases \n",
    "X_train_new_5 = X_train_new_4.drop(['workingday'], axis =1)\n"
   ]
  },
  {
   "cell_type": "code",
   "execution_count": 273,
   "id": "1d64633b",
   "metadata": {
    "scrolled": true
   },
   "outputs": [
    {
     "name": "stdout",
     "output_type": "stream",
     "text": [
      "const                    0.117890\n",
      "yr                       0.233595\n",
      "temp                     0.553650\n",
      "windspeed               -0.157494\n",
      "weathersit_light_snow   -0.280215\n",
      "weathersit_mist         -0.078238\n",
      "mnth_sep                 0.097686\n",
      "weekday_mon              0.022733\n",
      "season_summer            0.088483\n",
      "season_winter            0.129269\n",
      "dtype: float64\n",
      "                            OLS Regression Results                            \n",
      "==============================================================================\n",
      "Dep. Variable:                    cnt   R-squared:                       0.827\n",
      "Model:                            OLS   Adj. R-squared:                  0.824\n",
      "Method:                 Least Squares   F-statistic:                     266.3\n",
      "Date:                Wed, 16 Mar 2022   Prob (F-statistic):          2.09e-184\n",
      "Time:                        20:11:09   Log-Likelihood:                 486.47\n",
      "No. Observations:                 510   AIC:                            -952.9\n",
      "Df Residuals:                     500   BIC:                            -910.6\n",
      "Df Model:                           9                                         \n",
      "Covariance Type:            nonrobust                                         \n",
      "=========================================================================================\n",
      "                            coef    std err          t      P>|t|      [0.025      0.975]\n",
      "-----------------------------------------------------------------------------------------\n",
      "const                     0.1179      0.017      6.945      0.000       0.085       0.151\n",
      "yr                        0.2336      0.008     27.778      0.000       0.217       0.250\n",
      "temp                      0.5536      0.020     27.429      0.000       0.514       0.593\n",
      "windspeed                -0.1575      0.026     -6.144      0.000      -0.208      -0.107\n",
      "weathersit_light_snow    -0.2802      0.025    -11.097      0.000      -0.330      -0.231\n",
      "weathersit_mist          -0.0782      0.009     -8.747      0.000      -0.096      -0.061\n",
      "mnth_sep                  0.0977      0.016      6.063      0.000       0.066       0.129\n",
      "weekday_mon               0.0227      0.012      1.968      0.050    3.68e-05       0.045\n",
      "season_summer             0.0885      0.011      8.382      0.000       0.068       0.109\n",
      "season_winter             0.1293      0.011     12.232      0.000       0.109       0.150\n",
      "==============================================================================\n",
      "Omnibus:                       72.508   Durbin-Watson:                   2.035\n",
      "Prob(Omnibus):                  0.000   Jarque-Bera (JB):              151.153\n",
      "Skew:                          -0.789   Prob(JB):                     1.51e-33\n",
      "Kurtosis:                       5.150   Cond. No.                         10.2\n",
      "==============================================================================\n",
      "\n",
      "Notes:\n",
      "[1] Standard Errors assume that the covariance matrix of the errors is correctly specified.\n"
     ]
    }
   ],
   "source": [
    "import statsmodels.api as sm  \n",
    "X_train_rfe_new_4 = sm.add_constant(X_train_new_5)\n",
    "lm_6 = sm.OLS(y_train,X_train_rfe_new_4).fit()   # Running the linear model\n",
    "print(lm_6.params)\n",
    "print(lm_6.summary())"
   ]
  },
  {
   "cell_type": "code",
   "execution_count": 279,
   "id": "1a59b4e9",
   "metadata": {},
   "outputs": [
    {
     "data": {
      "text/html": [
       "<div>\n",
       "<style scoped>\n",
       "    .dataframe tbody tr th:only-of-type {\n",
       "        vertical-align: middle;\n",
       "    }\n",
       "\n",
       "    .dataframe tbody tr th {\n",
       "        vertical-align: top;\n",
       "    }\n",
       "\n",
       "    .dataframe thead th {\n",
       "        text-align: right;\n",
       "    }\n",
       "</style>\n",
       "<table border=\"1\" class=\"dataframe\">\n",
       "  <thead>\n",
       "    <tr style=\"text-align: right;\">\n",
       "      <th></th>\n",
       "      <th>Features</th>\n",
       "      <th>VIF</th>\n",
       "    </tr>\n",
       "  </thead>\n",
       "  <tbody>\n",
       "    <tr>\n",
       "      <th>1</th>\n",
       "      <td>temp</td>\n",
       "      <td>3.70</td>\n",
       "    </tr>\n",
       "    <tr>\n",
       "      <th>2</th>\n",
       "      <td>windspeed</td>\n",
       "      <td>3.09</td>\n",
       "    </tr>\n",
       "    <tr>\n",
       "      <th>0</th>\n",
       "      <td>yr</td>\n",
       "      <td>2.00</td>\n",
       "    </tr>\n",
       "    <tr>\n",
       "      <th>7</th>\n",
       "      <td>season_summer</td>\n",
       "      <td>1.56</td>\n",
       "    </tr>\n",
       "    <tr>\n",
       "      <th>4</th>\n",
       "      <td>weathersit_mist</td>\n",
       "      <td>1.48</td>\n",
       "    </tr>\n",
       "    <tr>\n",
       "      <th>8</th>\n",
       "      <td>season_winter</td>\n",
       "      <td>1.37</td>\n",
       "    </tr>\n",
       "    <tr>\n",
       "      <th>5</th>\n",
       "      <td>mnth_sep</td>\n",
       "      <td>1.20</td>\n",
       "    </tr>\n",
       "    <tr>\n",
       "      <th>6</th>\n",
       "      <td>weekday_mon</td>\n",
       "      <td>1.18</td>\n",
       "    </tr>\n",
       "    <tr>\n",
       "      <th>3</th>\n",
       "      <td>weathersit_light_snow</td>\n",
       "      <td>1.08</td>\n",
       "    </tr>\n",
       "  </tbody>\n",
       "</table>\n",
       "</div>"
      ],
      "text/plain": [
       "                Features   VIF\n",
       "1                   temp  3.70\n",
       "2              windspeed  3.09\n",
       "0                     yr  2.00\n",
       "7          season_summer  1.56\n",
       "4        weathersit_mist  1.48\n",
       "8          season_winter  1.37\n",
       "5               mnth_sep  1.20\n",
       "6            weekday_mon  1.18\n",
       "3  weathersit_light_snow  1.08"
      ]
     },
     "execution_count": 279,
     "metadata": {},
     "output_type": "execute_result"
    }
   ],
   "source": [
    "# Calculate the VIFs again for the new model\n",
    "\n",
    "findVIF(X_train_new_5)"
   ]
  },
  {
   "cell_type": "code",
   "execution_count": 282,
   "id": "ee80a2f0",
   "metadata": {},
   "outputs": [],
   "source": [
    "# Dropping variable as per p value before dropping w.r.t VIF to see if VIF decreases \n",
    "X_train_new_6 = X_train_new_5.drop(['weekday_mon'], axis =1)\n"
   ]
  },
  {
   "cell_type": "code",
   "execution_count": 283,
   "id": "a8519350",
   "metadata": {
    "scrolled": true
   },
   "outputs": [
    {
     "name": "stdout",
     "output_type": "stream",
     "text": [
      "const                    0.121392\n",
      "yr                       0.233108\n",
      "temp                     0.552725\n",
      "windspeed               -0.155260\n",
      "weathersit_light_snow   -0.279492\n",
      "weathersit_mist         -0.078044\n",
      "mnth_sep                 0.097698\n",
      "season_summer            0.088176\n",
      "season_winter            0.129402\n",
      "dtype: float64\n",
      "                            OLS Regression Results                            \n",
      "==============================================================================\n",
      "Dep. Variable:                    cnt   R-squared:                       0.826\n",
      "Model:                            OLS   Adj. R-squared:                  0.823\n",
      "Method:                 Least Squares   F-statistic:                     297.4\n",
      "Date:                Wed, 16 Mar 2022   Prob (F-statistic):          8.04e-185\n",
      "Time:                        20:16:42   Log-Likelihood:                 484.51\n",
      "No. Observations:                 510   AIC:                            -951.0\n",
      "Df Residuals:                     501   BIC:                            -912.9\n",
      "Df Model:                           8                                         \n",
      "Covariance Type:            nonrobust                                         \n",
      "=========================================================================================\n",
      "                            coef    std err          t      P>|t|      [0.025      0.975]\n",
      "-----------------------------------------------------------------------------------------\n",
      "const                     0.1214      0.017      7.170      0.000       0.088       0.155\n",
      "yr                        0.2331      0.008     27.653      0.000       0.217       0.250\n",
      "temp                      0.5527      0.020     27.313      0.000       0.513       0.592\n",
      "windspeed                -0.1553      0.026     -6.045      0.000      -0.206      -0.105\n",
      "weathersit_light_snow    -0.2795      0.025    -11.038      0.000      -0.329      -0.230\n",
      "weathersit_mist          -0.0780      0.009     -8.701      0.000      -0.096      -0.060\n",
      "mnth_sep                  0.0977      0.016      6.046      0.000       0.066       0.129\n",
      "season_summer             0.0882      0.011      8.330      0.000       0.067       0.109\n",
      "season_winter             0.1294      0.011     12.210      0.000       0.109       0.150\n",
      "==============================================================================\n",
      "Omnibus:                       66.354   Durbin-Watson:                   2.033\n",
      "Prob(Omnibus):                  0.000   Jarque-Bera (JB):              143.601\n",
      "Skew:                          -0.716   Prob(JB):                     6.57e-32\n",
      "Kurtosis:                       5.170   Cond. No.                         10.2\n",
      "==============================================================================\n",
      "\n",
      "Notes:\n",
      "[1] Standard Errors assume that the covariance matrix of the errors is correctly specified.\n"
     ]
    }
   ],
   "source": [
    "import statsmodels.api as sm  \n",
    "X_train_rfe_new_5 = sm.add_constant(X_train_new_6)\n",
    "lm_7 = sm.OLS(y_train,X_train_rfe_new_5).fit()   # Running the linear model\n",
    "print(lm_7.params)\n",
    "print(lm_7.summary())"
   ]
  },
  {
   "cell_type": "code",
   "execution_count": 284,
   "id": "e3d3b3e4",
   "metadata": {
    "scrolled": true
   },
   "outputs": [
    {
     "data": {
      "text/html": [
       "<div>\n",
       "<style scoped>\n",
       "    .dataframe tbody tr th:only-of-type {\n",
       "        vertical-align: middle;\n",
       "    }\n",
       "\n",
       "    .dataframe tbody tr th {\n",
       "        vertical-align: top;\n",
       "    }\n",
       "\n",
       "    .dataframe thead th {\n",
       "        text-align: right;\n",
       "    }\n",
       "</style>\n",
       "<table border=\"1\" class=\"dataframe\">\n",
       "  <thead>\n",
       "    <tr style=\"text-align: right;\">\n",
       "      <th></th>\n",
       "      <th>Features</th>\n",
       "      <th>VIF</th>\n",
       "    </tr>\n",
       "  </thead>\n",
       "  <tbody>\n",
       "    <tr>\n",
       "      <th>1</th>\n",
       "      <td>temp</td>\n",
       "      <td>3.68</td>\n",
       "    </tr>\n",
       "    <tr>\n",
       "      <th>2</th>\n",
       "      <td>windspeed</td>\n",
       "      <td>3.03</td>\n",
       "    </tr>\n",
       "    <tr>\n",
       "      <th>0</th>\n",
       "      <td>yr</td>\n",
       "      <td>2.00</td>\n",
       "    </tr>\n",
       "    <tr>\n",
       "      <th>6</th>\n",
       "      <td>season_summer</td>\n",
       "      <td>1.56</td>\n",
       "    </tr>\n",
       "    <tr>\n",
       "      <th>4</th>\n",
       "      <td>weathersit_mist</td>\n",
       "      <td>1.47</td>\n",
       "    </tr>\n",
       "    <tr>\n",
       "      <th>7</th>\n",
       "      <td>season_winter</td>\n",
       "      <td>1.37</td>\n",
       "    </tr>\n",
       "    <tr>\n",
       "      <th>5</th>\n",
       "      <td>mnth_sep</td>\n",
       "      <td>1.20</td>\n",
       "    </tr>\n",
       "    <tr>\n",
       "      <th>3</th>\n",
       "      <td>weathersit_light_snow</td>\n",
       "      <td>1.08</td>\n",
       "    </tr>\n",
       "  </tbody>\n",
       "</table>\n",
       "</div>"
      ],
      "text/plain": [
       "                Features   VIF\n",
       "1                   temp  3.68\n",
       "2              windspeed  3.03\n",
       "0                     yr  2.00\n",
       "6          season_summer  1.56\n",
       "4        weathersit_mist  1.47\n",
       "7          season_winter  1.37\n",
       "5               mnth_sep  1.20\n",
       "3  weathersit_light_snow  1.08"
      ]
     },
     "execution_count": 284,
     "metadata": {},
     "output_type": "execute_result"
    }
   ],
   "source": [
    "# Calculate the VIFs again for the new model\n",
    "\n",
    "findVIF(X_train_new_6)"
   ]
  },
  {
   "cell_type": "markdown",
   "id": "16ee6944",
   "metadata": {},
   "source": [
    "## Step 5: Residual Analysis of the train data"
   ]
  },
  {
   "cell_type": "code",
   "execution_count": 286,
   "id": "90194f06",
   "metadata": {},
   "outputs": [],
   "source": [
    "y_train_pred = lm_7.predict(X_train_rfe_new_5)"
   ]
  },
  {
   "cell_type": "code",
   "execution_count": 287,
   "id": "8aa1fe79",
   "metadata": {
    "scrolled": false
   },
   "outputs": [
    {
     "data": {
      "text/plain": [
       "Text(0.5, 0, 'Errors')"
      ]
     },
     "execution_count": 287,
     "metadata": {},
     "output_type": "execute_result"
    },
    {
     "data": {
      "image/png": "[encoded data removed]",
      "text/plain": [
       "<Figure size 432x288 with 1 Axes>"
      ]
     },
     "metadata": {
      "needs_background": "light"
     },
     "output_type": "display_data"
    }
   ],
   "source": [
    "# Plot the histogram of the error terms\n",
    "fig = plt.figure()\n",
    "sns.distplot((y_train - y_train_pred), bins = 20)\n",
    "fig.suptitle('Error Terms', fontsize = 20)                  # Plot heading \n",
    "plt.xlabel('Errors', fontsize = 18)                         # X-label"
   ]
  },
  {
   "cell_type": "markdown",
   "id": "6e6de35b",
   "metadata": {},
   "source": [
    "- After removal of 2 additional feature variables,now error terms are normally distributed with mean=0 satisfying the assumption of linear regression"
   ]
  },
  {
   "cell_type": "markdown",
   "id": "41284c0d",
   "metadata": {},
   "source": [
    "## Step 6: Making Predictions Using the Final Model"
   ]
  },
  {
   "cell_type": "markdown",
   "id": "cb4bc258",
   "metadata": {},
   "source": [
    "#### Applying the scaling on the test sets\n",
    "#### only transform on the test set and \n",
    "#### fit and transform only on the training data set"
   ]
  },
  {
   "cell_type": "code",
   "execution_count": 288,
   "id": "1537783b",
   "metadata": {},
   "outputs": [],
   "source": [
    "num_vars = ['temp','hum','windspeed','cnt']\n",
    "\n",
    "df1_test[num_vars] = scaler.transform(df1_test[num_vars])"
   ]
  },
  {
   "cell_type": "code",
   "execution_count": 289,
   "id": "9085baaf",
   "metadata": {},
   "outputs": [
    {
     "data": {
      "text/html": [
       "<div>\n",
       "<style scoped>\n",
       "    .dataframe tbody tr th:only-of-type {\n",
       "        vertical-align: middle;\n",
       "    }\n",
       "\n",
       "    .dataframe tbody tr th {\n",
       "        vertical-align: top;\n",
       "    }\n",
       "\n",
       "    .dataframe thead th {\n",
       "        text-align: right;\n",
       "    }\n",
       "</style>\n",
       "<table border=\"1\" class=\"dataframe\">\n",
       "  <thead>\n",
       "    <tr style=\"text-align: right;\">\n",
       "      <th></th>\n",
       "      <th>yr</th>\n",
       "      <th>holiday</th>\n",
       "      <th>workingday</th>\n",
       "      <th>temp</th>\n",
       "      <th>hum</th>\n",
       "      <th>windspeed</th>\n",
       "      <th>cnt</th>\n",
       "      <th>weathersit_light_snow</th>\n",
       "      <th>weathersit_mist</th>\n",
       "      <th>mnth_aug</th>\n",
       "      <th>...</th>\n",
       "      <th>mnth_sep</th>\n",
       "      <th>weekday_mon</th>\n",
       "      <th>weekday_sat</th>\n",
       "      <th>weekday_sun</th>\n",
       "      <th>weekday_thu</th>\n",
       "      <th>weekday_tue</th>\n",
       "      <th>weekday_wed</th>\n",
       "      <th>season_spring</th>\n",
       "      <th>season_summer</th>\n",
       "      <th>season_winter</th>\n",
       "    </tr>\n",
       "  </thead>\n",
       "  <tbody>\n",
       "    <tr>\n",
       "      <th>count</th>\n",
       "      <td>219.000000</td>\n",
       "      <td>219.000000</td>\n",
       "      <td>219.000000</td>\n",
       "      <td>219.000000</td>\n",
       "      <td>219.000000</td>\n",
       "      <td>219.000000</td>\n",
       "      <td>219.000000</td>\n",
       "      <td>219.000000</td>\n",
       "      <td>219.000000</td>\n",
       "      <td>219.000000</td>\n",
       "      <td>...</td>\n",
       "      <td>219.000000</td>\n",
       "      <td>219.000000</td>\n",
       "      <td>219.000000</td>\n",
       "      <td>219.000000</td>\n",
       "      <td>219.000000</td>\n",
       "      <td>219.000000</td>\n",
       "      <td>219.000000</td>\n",
       "      <td>219.000000</td>\n",
       "      <td>219.000000</td>\n",
       "      <td>219.000000</td>\n",
       "    </tr>\n",
       "    <tr>\n",
       "      <th>mean</th>\n",
       "      <td>0.479452</td>\n",
       "      <td>0.036530</td>\n",
       "      <td>0.698630</td>\n",
       "      <td>0.558941</td>\n",
       "      <td>0.638508</td>\n",
       "      <td>0.313350</td>\n",
       "      <td>0.520592</td>\n",
       "      <td>0.027397</td>\n",
       "      <td>0.319635</td>\n",
       "      <td>0.059361</td>\n",
       "      <td>...</td>\n",
       "      <td>0.086758</td>\n",
       "      <td>0.118721</td>\n",
       "      <td>0.164384</td>\n",
       "      <td>0.178082</td>\n",
       "      <td>0.164384</td>\n",
       "      <td>0.146119</td>\n",
       "      <td>0.127854</td>\n",
       "      <td>0.255708</td>\n",
       "      <td>0.264840</td>\n",
       "      <td>0.232877</td>\n",
       "    </tr>\n",
       "    <tr>\n",
       "      <th>std</th>\n",
       "      <td>0.500722</td>\n",
       "      <td>0.188034</td>\n",
       "      <td>0.459904</td>\n",
       "      <td>0.233698</td>\n",
       "      <td>0.148974</td>\n",
       "      <td>0.159947</td>\n",
       "      <td>0.218435</td>\n",
       "      <td>0.163612</td>\n",
       "      <td>0.467403</td>\n",
       "      <td>0.236840</td>\n",
       "      <td>...</td>\n",
       "      <td>0.282125</td>\n",
       "      <td>0.324202</td>\n",
       "      <td>0.371472</td>\n",
       "      <td>0.383458</td>\n",
       "      <td>0.371472</td>\n",
       "      <td>0.354034</td>\n",
       "      <td>0.334692</td>\n",
       "      <td>0.437258</td>\n",
       "      <td>0.442259</td>\n",
       "      <td>0.423633</td>\n",
       "    </tr>\n",
       "    <tr>\n",
       "      <th>min</th>\n",
       "      <td>0.000000</td>\n",
       "      <td>0.000000</td>\n",
       "      <td>0.000000</td>\n",
       "      <td>0.046591</td>\n",
       "      <td>0.261915</td>\n",
       "      <td>-0.042808</td>\n",
       "      <td>0.048205</td>\n",
       "      <td>0.000000</td>\n",
       "      <td>0.000000</td>\n",
       "      <td>0.000000</td>\n",
       "      <td>...</td>\n",
       "      <td>0.000000</td>\n",
       "      <td>0.000000</td>\n",
       "      <td>0.000000</td>\n",
       "      <td>0.000000</td>\n",
       "      <td>0.000000</td>\n",
       "      <td>0.000000</td>\n",
       "      <td>0.000000</td>\n",
       "      <td>0.000000</td>\n",
       "      <td>0.000000</td>\n",
       "      <td>0.000000</td>\n",
       "    </tr>\n",
       "    <tr>\n",
       "      <th>25%</th>\n",
       "      <td>0.000000</td>\n",
       "      <td>0.000000</td>\n",
       "      <td>0.000000</td>\n",
       "      <td>0.354650</td>\n",
       "      <td>0.527265</td>\n",
       "      <td>0.198517</td>\n",
       "      <td>0.377531</td>\n",
       "      <td>0.000000</td>\n",
       "      <td>0.000000</td>\n",
       "      <td>0.000000</td>\n",
       "      <td>...</td>\n",
       "      <td>0.000000</td>\n",
       "      <td>0.000000</td>\n",
       "      <td>0.000000</td>\n",
       "      <td>0.000000</td>\n",
       "      <td>0.000000</td>\n",
       "      <td>0.000000</td>\n",
       "      <td>0.000000</td>\n",
       "      <td>0.000000</td>\n",
       "      <td>0.000000</td>\n",
       "      <td>0.000000</td>\n",
       "    </tr>\n",
       "    <tr>\n",
       "      <th>50%</th>\n",
       "      <td>0.000000</td>\n",
       "      <td>0.000000</td>\n",
       "      <td>1.000000</td>\n",
       "      <td>0.558691</td>\n",
       "      <td>0.627737</td>\n",
       "      <td>0.299459</td>\n",
       "      <td>0.524275</td>\n",
       "      <td>0.000000</td>\n",
       "      <td>0.000000</td>\n",
       "      <td>0.000000</td>\n",
       "      <td>...</td>\n",
       "      <td>0.000000</td>\n",
       "      <td>0.000000</td>\n",
       "      <td>0.000000</td>\n",
       "      <td>0.000000</td>\n",
       "      <td>0.000000</td>\n",
       "      <td>0.000000</td>\n",
       "      <td>0.000000</td>\n",
       "      <td>0.000000</td>\n",
       "      <td>0.000000</td>\n",
       "      <td>0.000000</td>\n",
       "    </tr>\n",
       "    <tr>\n",
       "      <th>75%</th>\n",
       "      <td>1.000000</td>\n",
       "      <td>0.000000</td>\n",
       "      <td>1.000000</td>\n",
       "      <td>0.759096</td>\n",
       "      <td>0.743928</td>\n",
       "      <td>0.403048</td>\n",
       "      <td>0.672745</td>\n",
       "      <td>0.000000</td>\n",
       "      <td>1.000000</td>\n",
       "      <td>0.000000</td>\n",
       "      <td>...</td>\n",
       "      <td>0.000000</td>\n",
       "      <td>0.000000</td>\n",
       "      <td>0.000000</td>\n",
       "      <td>0.000000</td>\n",
       "      <td>0.000000</td>\n",
       "      <td>0.000000</td>\n",
       "      <td>0.000000</td>\n",
       "      <td>1.000000</td>\n",
       "      <td>1.000000</td>\n",
       "      <td>0.000000</td>\n",
       "    </tr>\n",
       "    <tr>\n",
       "      <th>max</th>\n",
       "      <td>1.000000</td>\n",
       "      <td>1.000000</td>\n",
       "      <td>1.000000</td>\n",
       "      <td>0.984424</td>\n",
       "      <td>1.002146</td>\n",
       "      <td>0.807474</td>\n",
       "      <td>0.963300</td>\n",
       "      <td>1.000000</td>\n",
       "      <td>1.000000</td>\n",
       "      <td>1.000000</td>\n",
       "      <td>...</td>\n",
       "      <td>1.000000</td>\n",
       "      <td>1.000000</td>\n",
       "      <td>1.000000</td>\n",
       "      <td>1.000000</td>\n",
       "      <td>1.000000</td>\n",
       "      <td>1.000000</td>\n",
       "      <td>1.000000</td>\n",
       "      <td>1.000000</td>\n",
       "      <td>1.000000</td>\n",
       "      <td>1.000000</td>\n",
       "    </tr>\n",
       "  </tbody>\n",
       "</table>\n",
       "<p>8 rows × 29 columns</p>\n",
       "</div>"
      ],
      "text/plain": [
       "               yr     holiday  workingday        temp         hum   windspeed  \\\n",
       "count  219.000000  219.000000  219.000000  219.000000  219.000000  219.000000   \n",
       "mean     0.479452    0.036530    0.698630    0.558941    0.638508    0.313350   \n",
       "std      0.500722    0.188034    0.459904    0.233698    0.148974    0.159947   \n",
       "min      0.000000    0.000000    0.000000    0.046591    0.261915   -0.042808   \n",
       "25%      0.000000    0.000000    0.000000    0.354650    0.527265    0.198517   \n",
       "50%      0.000000    0.000000    1.000000    0.558691    0.627737    0.299459   \n",
       "75%      1.000000    0.000000    1.000000    0.759096    0.743928    0.403048   \n",
       "max      1.000000    1.000000    1.000000    0.984424    1.002146    0.807474   \n",
       "\n",
       "              cnt  weathersit_light_snow  weathersit_mist    mnth_aug  ...  \\\n",
       "count  219.000000             219.000000       219.000000  219.000000  ...   \n",
       "mean     0.520592               0.027397         0.319635    0.059361  ...   \n",
       "std      0.218435               0.163612         0.467403    0.236840  ...   \n",
       "min      0.048205               0.000000         0.000000    0.000000  ...   \n",
       "25%      0.377531               0.000000         0.000000    0.000000  ...   \n",
       "50%      0.524275               0.000000         0.000000    0.000000  ...   \n",
       "75%      0.672745               0.000000         1.000000    0.000000  ...   \n",
       "max      0.963300               1.000000         1.000000    1.000000  ...   \n",
       "\n",
       "         mnth_sep  weekday_mon  weekday_sat  weekday_sun  weekday_thu  \\\n",
       "count  219.000000   219.000000   219.000000   219.000000   219.000000   \n",
       "mean     0.086758     0.118721     0.164384     0.178082     0.164384   \n",
       "std      0.282125     0.324202     0.371472     0.383458     0.371472   \n",
       "min      0.000000     0.000000     0.000000     0.000000     0.000000   \n",
       "25%      0.000000     0.000000     0.000000     0.000000     0.000000   \n",
       "50%      0.000000     0.000000     0.000000     0.000000     0.000000   \n",
       "75%      0.000000     0.000000     0.000000     0.000000     0.000000   \n",
       "max      1.000000     1.000000     1.000000     1.000000     1.000000   \n",
       "\n",
       "       weekday_tue  weekday_wed  season_spring  season_summer  season_winter  \n",
       "count   219.000000   219.000000     219.000000     219.000000     219.000000  \n",
       "mean      0.146119     0.127854       0.255708       0.264840       0.232877  \n",
       "std       0.354034     0.334692       0.437258       0.442259       0.423633  \n",
       "min       0.000000     0.000000       0.000000       0.000000       0.000000  \n",
       "25%       0.000000     0.000000       0.000000       0.000000       0.000000  \n",
       "50%       0.000000     0.000000       0.000000       0.000000       0.000000  \n",
       "75%       0.000000     0.000000       1.000000       1.000000       0.000000  \n",
       "max       1.000000     1.000000       1.000000       1.000000       1.000000  \n",
       "\n",
       "[8 rows x 29 columns]"
      ]
     },
     "execution_count": 289,
     "metadata": {},
     "output_type": "execute_result"
    }
   ],
   "source": [
    "df1_test.describe()"
   ]
  },
  {
   "cell_type": "markdown",
   "id": "64b0e927",
   "metadata": {},
   "source": [
    "#### Dividing into X_test and y_test"
   ]
  },
  {
   "cell_type": "code",
   "execution_count": 290,
   "id": "933e3d4d",
   "metadata": {},
   "outputs": [],
   "source": [
    "y_test = df1_test.pop('cnt')\n",
    "X_test = df1_test"
   ]
  },
  {
   "cell_type": "code",
   "execution_count": 291,
   "id": "b959dbe0",
   "metadata": {},
   "outputs": [
    {
     "data": {
      "text/plain": [
       "(219,)"
      ]
     },
     "execution_count": 291,
     "metadata": {},
     "output_type": "execute_result"
    }
   ],
   "source": [
    "y_test.shape"
   ]
  },
  {
   "cell_type": "code",
   "execution_count": 292,
   "id": "31ef1498",
   "metadata": {},
   "outputs": [],
   "source": [
    "# Adding constant variable to test dataframe\n",
    "X_test_new = sm.add_constant(X_test[X_train_new_6.columns])"
   ]
  },
  {
   "cell_type": "code",
   "execution_count": 293,
   "id": "ab4c5109",
   "metadata": {},
   "outputs": [],
   "source": [
    "# Making prediction\n",
    "\n",
    "y_test_pred = lm_7.predict(X_test_new)"
   ]
  },
  {
   "cell_type": "markdown",
   "id": "b2b4a49e",
   "metadata": {},
   "source": [
    "## Step 7: Model Evaluation"
   ]
  },
  {
   "cell_type": "code",
   "execution_count": 294,
   "id": "7f9d8a62",
   "metadata": {
    "scrolled": true
   },
   "outputs": [
    {
     "data": {
      "text/plain": [
       "Text(0, 0.5, 'y_test_pred')"
      ]
     },
     "execution_count": 294,
     "metadata": {},
     "output_type": "execute_result"
    },
    {
     "data": {
      "image/png": "[encoded data removed]",
      "text/plain": [
       "<Figure size 432x288 with 1 Axes>"
      ]
     },
     "metadata": {
      "needs_background": "light"
     },
     "output_type": "display_data"
    }
   ],
   "source": [
    "# Plotting y_test and y_test_pred to understand the spread\n",
    "\n",
    "fig = plt.figure()\n",
    "plt.scatter(y_test, y_test_pred)\n",
    "fig.suptitle('y_test vs y_test_pred', fontsize = 20)              # Plot heading \n",
    "plt.xlabel('y_test', fontsize = 18)                          # X-label\n",
    "plt.ylabel('y_test_pred', fontsize = 16)      "
   ]
  },
  {
   "cell_type": "code",
   "execution_count": 295,
   "id": "54f27566",
   "metadata": {},
   "outputs": [
    {
     "data": {
      "text/plain": [
       "0.7906228342366496"
      ]
     },
     "execution_count": 295,
     "metadata": {},
     "output_type": "execute_result"
    }
   ],
   "source": [
    "from sklearn.metrics import mean_squared_error\n",
    "from sklearn.metrics import r2_score\n",
    "r2_score(y_true = y_test, y_pred = y_test_pred)"
   ]
  },
  {
   "cell_type": "markdown",
   "id": "d28e2df4",
   "metadata": {},
   "source": [
    "\n",
    "We can see that the equation of our best fitted line is:\n",
    "\n",
    "$ cnt = 0.2331  \\times  yr + 0.5527 \\times temp -0.0780 \\times  weathersit\\_mist - 0.1553 \\times windspeed + 0.0882 \\times season\\_summer - 0.2795 \\times weathersit\\_light\\_snow + 0.0977 \\times mnth\\_sep + 0.1294 \\times season\\_winter + 0.1214 $\n"
   ]
  },
  {
   "cell_type": "markdown",
   "id": "f9941920",
   "metadata": {},
   "source": [
    "## Conclusion\n",
    " The following are the significant variables for predicting the demand for shared bikes\n",
    "- temp\n",
    "- yr\n",
    "- windspeed\n",
    "- seasons summer, winter\n",
    "- weathersit of mist and lightsnow \n",
    "- mnth_sep\n",
    "\n",
    "\n",
    "\n",
    "1. Rentals are increasing year on year. We can expect increase in rentals going forward in subsequent years\n",
    "2. If temperatures are high, there is increase in rentals. Supply needs to be there to meet the demand\n",
    "3. If weathersit is Mist and lightsnow, we can expect decrease in bike rentals. Company can plan accordingly\n",
    "4. If windspeed is high, there is decrease in demand for bikes. Company can reduce the inventory\n",
    "5. In seasons summer and winter have positive impact on bike rentals\n",
    "6. September month have higher impact comparatively to other months. Company can increase the stock to meet the demand\n",
    "\n"
   ]
  },
  {
   "cell_type": "markdown",
   "id": "42f5859c",
   "metadata": {},
   "source": [
    "### Additional\n",
    "####  Error terms are random satisfying the assumption of linear regression model. No visbible pattern is seen\n",
    "#### Error terms follow homoscedasticity"
   ]
  },
  {
   "cell_type": "code",
   "execution_count": 296,
   "id": "a5fae818",
   "metadata": {
    "scrolled": true
   },
   "outputs": [
    {
     "data": {
      "image/png": "[encoded data removed]",
      "text/plain": [
       "<Figure size 432x288 with 1 Axes>"
      ]
     },
     "metadata": {
      "needs_background": "light"
     },
     "output_type": "display_data"
    }
   ],
   "source": [
    "# Test set\n",
    "res = (y_test - y_test_pred)\n",
    "x = [i for i in range(1,220,1)]\n",
    "\n",
    "plt.scatter(x,res)\n",
    "plt.show()"
   ]
  },
  {
   "cell_type": "code",
   "execution_count": 297,
   "id": "06888d43",
   "metadata": {
    "scrolled": false
   },
   "outputs": [
    {
     "data": {
      "image/png": "[encoded data removed]",
      "text/plain": [
       "<Figure size 432x288 with 1 Axes>"
      ]
     },
     "metadata": {
      "needs_background": "light"
     },
     "output_type": "display_data"
    }
   ],
   "source": [
    "# Training \n",
    "res = (y_train - y_train_pred)\n",
    "x = [i for i in range(1,511,1)]\n",
    "\n",
    "plt.scatter(x,res)\n",
    "plt.show()"
   ]
  },
  {
   "cell_type": "code",
   "execution_count": 298,
   "id": "b011dcb2",
   "metadata": {
    "scrolled": false
   },
   "outputs": [
    {
     "data": {
      "text/plain": [
       "<AxesSubplot:xlabel='cnt'>"
      ]
     },
     "execution_count": 298,
     "metadata": {},
     "output_type": "execute_result"
    },
    {
     "data": {
      "image/png": "[encoded data removed]",
      "text/plain": [
       "<Figure size 432x288 with 1 Axes>"
      ]
     },
     "metadata": {
      "needs_background": "light"
     },
     "output_type": "display_data"
    }
   ],
   "source": [
    "sns.scatterplot(y_train, res)"
   ]
  },
  {
   "cell_type": "markdown",
   "id": "936c5dc7",
   "metadata": {},
   "source": [
    "#### Homoscedasticity is satisfied for error terms "
   ]
  },
  {
   "cell_type": "markdown",
   "id": "a0a3fb6b",
   "metadata": {},
   "source": [
    "- Train dataset Adjusted R^2 : 0.824    \n",
    "- Test dataset Adjusted R^2  : 0.79"
   ]
  }
 ],
 "metadata": {
  "kernelspec": {
   "display_name": "Python 3 (ipykernel)",
   "language": "python",
   "name": "python3"
  },
  "language_info": {
   "codemirror_mode": {
    "name": "ipython",
    "version": 3
   },
   "file_extension": ".py",
   "mimetype": "text/x-python",
   "name": "python",
   "nbconvert_exporter": "python",
   "pygments_lexer": "ipython3",
   "version": "3.9.7"
  }
 },
 "nbformat": 4,
 "nbformat_minor": 5
}
